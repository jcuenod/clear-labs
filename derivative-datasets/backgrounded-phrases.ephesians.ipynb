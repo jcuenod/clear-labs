{
 "cells": [
  {
   "cell_type": "code",
   "execution_count": 23,
   "metadata": {},
   "outputs": [
    {
     "name": "stdout",
     "output_type": "stream",
     "text": [
      "Number of words: 2416\n",
      "Παῦλος\n",
      "ἀπόστολος\n",
      "Χριστοῦ\n",
      "Ἰησοῦ\n",
      "διὰ\n"
     ]
    }
   ],
   "source": [
    "# Import macula lowfat xml\n",
    "import lxml.etree as ET\n",
    "\n",
    "xml_root = \"/home/jcuenod/Programming/symphony-stuff/symphony-backend-atlas-internal/data/Clear-Bible/macula-greek/SBLGNT/lowfat\"\n",
    "file_name = \"10-ephesians.xml\"\n",
    "tree = ET.parse(xml_root + \"/\" + file_name)\n",
    "root = tree.getroot()\n",
    "\n",
    "# Get all the words\n",
    "words = root.findall(\".//w\")\n",
    "print(\"Number of words: \" + str(len(words)))\n",
    "\n",
    "# print the first 5 words\n",
    "for word in words[:5]:\n",
    "    print(word.text)"
   ]
  },
  {
   "cell_type": "code",
   "execution_count": 24,
   "metadata": {},
   "outputs": [
    {
     "name": "stdout",
     "output_type": "stream",
     "text": [
      "Number of main clauses: 170\n",
      "ἐξελέξατο\n",
      "ἐχαρίτωσεν\n",
      "ἔχομεν\n",
      "ἐπερίσσευσεν\n",
      "προέθετο\n"
     ]
    }
   ],
   "source": [
    "# find words with both role as 'v' and mood must be either 'indicative' or 'imperative' or 'subjunctive' or 'infinitive'\n",
    "main_clause_candidates = root.xpath(\".//w[@role='v' and (@mood='indicative' or @mood='imperative' or @mood='subjunctive' or @mood='infinitive')]\")\n",
    "print(\"Number of main clauses: \" + str(len(main_clause_candidates)))\n",
    "for clause in main_clause_candidates[:5]:\n",
    "    print(clause.text)"
   ]
  },
  {
   "cell_type": "code",
   "execution_count": 25,
   "metadata": {},
   "outputs": [
    {
     "name": "stdout",
     "output_type": "stream",
     "text": [
      "ἀκούσας {'role': 'v', 'ref': 'EPH 1:15!4', 'after': ' ', 'class': 'verb', '{http://www.w3.org/XML/1998/namespace}id': 'n49001015004', 'lemma': 'ἀκούω', 'normalized': 'ἀκούσας', 'strong': '191', 'number': 'singular', 'gender': 'masculine', 'case': 'nominative', 'tense': 'aorist', 'voice': 'active', 'mood': 'participle', 'english': 'heard', 'mandarin': '听到', 'gloss': 'having heard of', 'domain': '033015', 'ln': '33.212', 'morph': 'V-AAP-NSM', 'unicode': 'ἀκούσας', 'frame': 'A0:n49001001001 A1:n49001015008;n49001015015', 'subjref': 'n49001001001'}\n",
      "ὄντας {'role': 'vc', 'ref': 'EPH 2:1!3', 'after': ' ', 'class': 'verb', '{http://www.w3.org/XML/1998/namespace}id': 'n49002001003', 'lemma': 'εἰμί', 'normalized': 'ὄντας', 'strong': '5607', 'number': 'plural', 'gender': 'masculine', 'case': 'accusative', 'tense': 'present', 'voice': 'active', 'mood': 'participle', 'english': 'were', 'mandarin': '是', 'gloss': 'being', 'domain': '013001', 'ln': '13.1', 'morph': 'V-PAP-APM', 'unicode': 'ὄντας'}\n",
      "ὄντας {'role': 'vc', 'ref': 'EPH 2:5!2', 'after': ' ', 'class': 'verb', '{http://www.w3.org/XML/1998/namespace}id': 'n49002005002', 'lemma': 'εἰμί', 'normalized': 'ὄντας', 'strong': '5607', 'number': 'plural', 'gender': 'masculine', 'case': 'accusative', 'tense': 'present', 'voice': 'active', 'mood': 'participle', 'english': 'were', 'mandarin': '在', 'gloss': 'being', 'domain': '013001', 'ln': '13.1', 'morph': 'V-PAP-APM', 'unicode': 'ὄντας'}\n",
      "ὢν {'role': 'vc', 'ref': 'EPH 2:4!5', 'after': ' ', 'class': 'verb', '{http://www.w3.org/XML/1998/namespace}id': 'n49002004005', 'lemma': 'εἰμί', 'normalized': 'ὤν', 'strong': '5607', 'number': 'singular', 'gender': 'masculine', 'case': 'nominative', 'tense': 'present', 'voice': 'active', 'mood': 'participle', 'english': 'is', 'mandarin': '有', 'gloss': 'being', 'domain': '013001', 'ln': '13.1', 'morph': 'V-PAP-NSM', 'unicode': 'ὢν', 'subjref': 'n49002004003'}\n",
      "ἐλθὼν {'role': 'v', 'ref': 'EPH 2:17!2', 'after': ' ', 'class': 'verb', '{http://www.w3.org/XML/1998/namespace}id': 'n49002017002', 'lemma': 'ἔρχομαι', 'normalized': 'ἐλθών', 'strong': '2064', 'number': 'singular', 'gender': 'masculine', 'case': 'nominative', 'tense': 'aorist', 'voice': 'active', 'mood': 'participle', 'english': 'came', 'mandarin': '来', 'gloss': 'having come', 'domain': '015006', 'ln': '15.81', 'morph': 'V-2AAP-NSM', 'unicode': 'ἐλθὼν', 'frame': 'A0:n49002013017', 'subjref': 'n49002013017'}\n",
      "Number of adjunct participle candidates: 10\n"
     ]
    }
   ],
   "source": [
    "# we're looking for siblings of the main_clause_candidates that have a child with a role of v or vc but mood participle\n",
    "# sibling must precede the main clause\n",
    "SHOULD_PRINT_PARTICIPLE_CANDIDATES = True\n",
    "\n",
    "# check that no ancestor of node has clauseType=nominalized up to ancestor\n",
    "def node_does_not_have_nominalized_ancestor(node, ancestor):\n",
    "    if node is None:\n",
    "        return True\n",
    "    if node.attrib.get(\"clauseType\") == \"nominalized\":\n",
    "        return False\n",
    "    return node_does_not_have_nominalized_ancestor(node.getparent(), ancestor)\n",
    "\n",
    "def first_node_without_nominalized_ancestor(nodes, ancestor):\n",
    "    nodes_without = [participle for participle in adjunct_participles\n",
    "        if node_does_not_have_nominalized_ancestor(participle, sibling)\n",
    "    ] if adjunct_participles is not None else []\n",
    "    return nodes_without[0] if len(nodes_without) > 0 else None\n",
    "\n",
    "print_counter = 0\n",
    "adjunct_participle_candidates = []\n",
    "for clause in main_clause_candidates:\n",
    "    # get siblings that precede the main clause\n",
    "    siblings = clause.itersiblings(preceding=True)\n",
    "    for sibling in siblings:\n",
    "        # sibling role must be adv (note sibling may not have a \"role\")\n",
    "        if sibling.attrib.get(\"role\") != \"adv\":\n",
    "            continue\n",
    "        adjunct_participles = sibling.findall(\".//w[@role='v'][@mood='participle']\")\n",
    "        adjunct_participle = first_node_without_nominalized_ancestor(adjunct_participles, sibling)\n",
    "        if adjunct_participle is not None:\n",
    "            adjunct_participle_candidates.append(sibling)\n",
    "            if SHOULD_PRINT_PARTICIPLE_CANDIDATES and print_counter < 5:\n",
    "                print(adjunct_participle.text, adjunct_participle.attrib)\n",
    "                print_counter += 1\n",
    "            continue\n",
    "        adjunct_participles = sibling.findall(\".//w[@role='vc'][@mood='participle']\")\n",
    "        adjunct_participle = first_node_without_nominalized_ancestor(adjunct_participles, sibling)\n",
    "        if adjunct_participle is not None:\n",
    "            adjunct_participle_candidates.append(sibling)\n",
    "            if SHOULD_PRINT_PARTICIPLE_CANDIDATES and print_counter < 5:\n",
    "                print(adjunct_participle.text, adjunct_participle.attrib)\n",
    "                print_counter += 1\n",
    "            continue\n",
    "\n",
    "print(\"Number of adjunct participle candidates: \" + str(len(adjunct_participle_candidates)))"
   ]
  },
  {
   "cell_type": "code",
   "execution_count": 26,
   "metadata": {},
   "outputs": [
    {
     "name": "stdout",
     "output_type": "stream",
     "text": [
      "EPH 1:15    ἀκούσας τὴν καθ’ ὑμᾶς πίστιν ἐν τῷ κυρίῳ Ἰησοῦ καὶ τὴν ἀγάπην τὴν εἰς πάντας τοὺς ἁγίους \n",
      "EPH 2:1     ὑμᾶς ὄντας νεκροὺς τοῖς παραπτώμασιν καὶ ταῖς ἁμαρτίαις ὑμῶν \n",
      "EPH 2:5     καὶ ὄντας ἡμᾶς νεκροὺς τοῖς παραπτώμασιν \n",
      "EPH 2:4     πλούσιος ὢν ἐν ἐλέει \n",
      "EPH 2:17    ἐλθὼν \n",
      "EPH 4:8     Ἀναβὰς εἰς ὕψος \n",
      "EPH 4:15    ἀληθεύοντες ἐν ἀγάπῃ \n",
      "EPH 4:25    ἀποθέμενοι τὸ ψεῦδος \n",
      "EPH 5:13    ἐλεγχόμενα ὑπὸ τοῦ φωτὸς \n",
      "EPH 6:13    ἅπαντα κατεργασάμενοι \n"
     ]
    }
   ],
   "source": [
    "# now we're going to get the text corresponding to the adjunct\n",
    "\n",
    "import re\n",
    "def get_text(node):\n",
    "    text = ''.join(node.itertext())\n",
    "    text = re.sub(r'\\s+', ' ', text)\n",
    "    return text\n",
    "\n",
    "def get_id_list(node):\n",
    "    words = node.findall(\".//w\")\n",
    "    return [word.attrib.get(\"{http://www.w3.org/XML/1998/namespace}id\") for word in words]\n",
    "\n",
    "print_counter = 0\n",
    "id_list_by_ref = []\n",
    "for candidate in adjunct_participle_candidates:\n",
    "    \n",
    "    # It's useful to print with a ref, this is just a rough-and-ready way to do it (not perfect)\n",
    "    ref = candidate.find(\".//w[@ref]\")\n",
    "    actual_ref = ref.attrib.get(\"ref\").split(\"!\")[0]\n",
    "    ref_to_print = actual_ref + \" \" * (10 - len(actual_ref))\n",
    "\n",
    "    id_list_by_ref.append((actual_ref, get_id_list(candidate)))\n",
    "    if print_counter < 10:\n",
    "        print(ref_to_print, get_text(candidate))\n",
    "        print_counter += 1\n"
   ]
  },
  {
   "cell_type": "code",
   "execution_count": 27,
   "metadata": {},
   "outputs": [],
   "source": [
    "# Differences are mainly the inclusion of the subject in Logos data\n",
    "\n",
    "# I list more significant differences below.\n",
    "# False Negatives:\n",
    "\n",
    "# False Positives:\n",
    "#  - 5:46\n",
    "#  - 7:11\n",
    "#  - 8:34"
   ]
  },
  {
   "cell_type": "code",
   "execution_count": 28,
   "metadata": {},
   "outputs": [],
   "source": [
    "# export to csv\n",
    "import csv\n",
    "with open('backgrounded-phrases.ephesians.csv', 'w', newline='') as csvfile:\n",
    "    writer = csv.writer(csvfile)\n",
    "    for row in id_list_by_ref:\n",
    "        writer.writerow(row)"
   ]
  },
  {
   "cell_type": "code",
   "execution_count": 29,
   "metadata": {},
   "outputs": [
    {
     "name": "stdout",
     "output_type": "stream",
     "text": [
      "['xml:id', 'ref', 'role', 'class', 'type', 'english', 'mandarin', 'gloss', 'text', 'after', 'lemma', 'normalized', 'strong', 'morph', 'person', 'number', 'gender', 'case', 'tense', 'voice', 'mood', 'degree', 'domain', 'ln', 'frame', 'subjref', 'referent']\n",
      "{'xml:id': 'n40001001001', 'ref': 'MAT 1:1!1', 'role': '', 'class': 'noun', 'type': 'common', 'english': 'book', 'mandarin': '谱', 'gloss': '[The] book', 'text': 'Βίβλος', 'after': ' ', 'lemma': 'βίβλος', 'normalized': 'βίβλος', 'strong': '976', 'morph': 'N-NSF', 'person': '', 'number': 'singular', 'gender': 'feminine', 'case': 'nominative', 'tense': '', 'voice': '', 'mood': '', 'degree': '', 'domain': '033005', 'ln': '33.38', 'frame': '', 'subjref': '', 'referent': ''}\n"
     ]
    }
   ],
   "source": [
    "# Let's use the macula TSV to print out verses and highlight backgrounded phrases\n",
    "\n",
    "# Get the macula TSV\n",
    "import csv\n",
    "path_to_macula_tsv = \"/home/jcuenod/Programming/symphony-stuff/symphony-backend-atlas-internal/data/Clear-Bible/macula-greek/SBLGNT/tsv/macula-greek-SBLGNT.tsv\"\n",
    "with open(path_to_macula_tsv, newline='') as csvfile:\n",
    "    reader = csv.reader(csvfile, delimiter='\\t')\n",
    "    macula_tsv = list(reader)\n",
    "# first row is the header\n",
    "header = macula_tsv[0]\n",
    "print(header)\n",
    "# convert to dictionarys\n",
    "macula_tsv = [dict(zip(header, row)) for row in macula_tsv[1:]]\n",
    "\n",
    "# show the first row\n",
    "print(macula_tsv[0])"
   ]
  },
  {
   "cell_type": "code",
   "execution_count": 30,
   "metadata": {},
   "outputs": [],
   "source": [
    "# Now we're grouping rows of macula_tsv by ref so we can get a whole verse at a time\n",
    "macula_tsv_by_ref = {}\n",
    "for row in macula_tsv:\n",
    "    ref = row.get(\"ref\").split(\"!\")[0]\n",
    "    if ref not in macula_tsv_by_ref:\n",
    "        macula_tsv_by_ref[ref] = []\n",
    "    macula_tsv_by_ref[ref].append(row)"
   ]
  },
  {
   "cell_type": "code",
   "execution_count": 31,
   "metadata": {},
   "outputs": [
    {
     "name": "stdout",
     "output_type": "stream",
     "text": [
      "('EPH 1:15', ['n49001015004', 'n49001015005', 'n49001015006', 'n49001015007', 'n49001015008', 'n49001015009', 'n49001015010', 'n49001015011', 'n49001015012', 'n49001015013', 'n49001015014', 'n49001015015', 'n49001015016', 'n49001015017', 'n49001015018', 'n49001015019', 'n49001015020'])\n"
     ]
    }
   ],
   "source": [
    "print(id_list_by_ref[0])"
   ]
  },
  {
   "cell_type": "code",
   "execution_count": 32,
   "metadata": {},
   "outputs": [
    {
     "data": {
      "text/html": [
       "<table><tr><td width='100px'><b>EPH 1:15</b></td><td style='text-align: left !important;'>Διὰ τοῦτο κἀγώ,<span style='background-color: #FFFF00'>ἀκούσας</span> <span style='background-color: #FFFF00'>τὴν</span> <span style='background-color: #FFFF00'>καθ’</span> <span style='background-color: #FFFF00'>ὑμᾶς</span> <span style='background-color: #FFFF00'>πίστιν</span> <span style='background-color: #FFFF00'>ἐν</span> <span style='background-color: #FFFF00'>τῷ</span> <span style='background-color: #FFFF00'>κυρίῳ</span> <span style='background-color: #FFFF00'>Ἰησοῦ</span> <span style='background-color: #FFFF00'>καὶ</span> <span style='background-color: #FFFF00'>τὴν</span> <span style='background-color: #FFFF00'>ἀγάπην</span> <span style='background-color: #FFFF00'>τὴν</span> <span style='background-color: #FFFF00'>εἰς</span> <span style='background-color: #FFFF00'>πάντας</span> <span style='background-color: #FFFF00'>τοὺς</span> <span style='background-color: #FFFF00'>ἁγίους</span>,</td></tr><tr><td width='100px'><b>EPH 2:1</b></td><td style='text-align: left !important;'>Καὶ <span style='background-color: #FFFF00'>ὑμᾶς</span> <span style='background-color: #FFFF00'>ὄντας</span> <span style='background-color: #FFFF00'>νεκροὺς</span> <span style='background-color: #FFFF00'>τοῖς</span> <span style='background-color: #FFFF00'>παραπτώμασιν</span> <span style='background-color: #FFFF00'>καὶ</span> <span style='background-color: #FFFF00'>ταῖς</span> <span style='background-color: #FFFF00'>ἁμαρτίαις</span> <span style='background-color: #FFFF00'>ὑμῶν</span>,</td></tr><tr><td width='100px'><b>EPH 2:5</b></td><td style='text-align: left !important;'><span style='background-color: #FFFF00'>καὶ</span> <span style='background-color: #FFFF00'>ὄντας</span> <span style='background-color: #FFFF00'>ἡμᾶς</span> <span style='background-color: #FFFF00'>νεκροὺς</span> <span style='background-color: #FFFF00'>τοῖς</span> <span style='background-color: #FFFF00'>παραπτώμασιν</span> συνεζωοποίησεν τῷ Χριστῷ χάριτί ἐστε σεσῳσμένοι </td></tr><tr><td width='100px'><b>EPH 2:4</b></td><td style='text-align: left !important;'>ὁ δὲ θεὸς <span style='background-color: #FFFF00'>πλούσιος</span> <span style='background-color: #FFFF00'>ὢν</span> <span style='background-color: #FFFF00'>ἐν</span> <span style='background-color: #FFFF00'>ἐλέει</span>,διὰ τὴν πολλὴν ἀγάπην αὐτοῦ ἣν ἠγάπησεν ἡμᾶς,</td></tr><tr><td width='100px'><b>EPH 2:17</b></td><td style='text-align: left !important;'>καὶ <span style='background-color: #FFFF00'>ἐλθὼν</span> εὐηγγελίσατο εἰρήνην ὑμῖν τοῖς μακρὰν καὶ εἰρήνην τοῖς ἐγγύς·</td></tr><tr><td width='100px'><b>EPH 4:8</b></td><td style='text-align: left !important;'>διὸ λέγει·<span style='background-color: #FFFF00'>Ἀναβὰς</span> <span style='background-color: #FFFF00'>εἰς</span> <span style='background-color: #FFFF00'>ὕψος</span> ᾐχμαλώτευσεν αἰχμαλωσίαν,ἔδωκεν δόματα τοῖς ἀνθρώποις.</td></tr><tr><td width='100px'><b>EPH 4:15</b></td><td style='text-align: left !important;'><span style='background-color: #FFFF00'>ἀληθεύοντες</span> δὲ <span style='background-color: #FFFF00'>ἐν</span> <span style='background-color: #FFFF00'>ἀγάπῃ</span> αὐξήσωμεν εἰς αὐτὸν τὰ πάντα,ὅς ἐστιν ἡ κεφαλή,Χριστός,</td></tr><tr><td width='100px'><b>EPH 4:25</b></td><td style='text-align: left !important;'>Διὸ <span style='background-color: #FFFF00'>ἀποθέμενοι</span> <span style='background-color: #FFFF00'>τὸ</span> <span style='background-color: #FFFF00'>ψεῦδος</span> λαλεῖτε ἀλήθειαν ἕκαστος μετὰ τοῦ πλησίον αὐτοῦ,ὅτι ἐσμὲν ἀλλήλων μέλη.</td></tr><tr><td width='100px'><b>EPH 5:13</b></td><td style='text-align: left !important;'>τὰ δὲ πάντα <span style='background-color: #FFFF00'>ἐλεγχόμενα</span> <span style='background-color: #FFFF00'>ὑπὸ</span> <span style='background-color: #FFFF00'>τοῦ</span> <span style='background-color: #FFFF00'>φωτὸς</span> φανεροῦται,</td></tr><tr><td width='100px'><b>EPH 6:13</b></td><td style='text-align: left !important;'>διὰ τοῦτο ἀναλάβετε τὴν πανοπλίαν τοῦ θεοῦ,ἵνα δυνηθῆτε ἀντιστῆναι ἐν τῇ ἡμέρᾳ τῇ πονηρᾷ καὶ <span style='background-color: #FFFF00'>ἅπαντα</span> <span style='background-color: #FFFF00'>κατεργασάμενοι</span> στῆναι.</td></tr></table>"
      ],
      "text/plain": [
       "<IPython.core.display.HTML object>"
      ]
     },
     "metadata": {},
     "output_type": "display_data"
    }
   ],
   "source": [
    "from IPython.display import display, HTML\n",
    "\n",
    "html_string = \"<table>\"\n",
    "for ref, id_list in id_list_by_ref:\n",
    "    # get the macula tsv for the roi\n",
    "    macula_tsv_for_roi = macula_tsv_by_ref[ref]\n",
    "\n",
    "    html_string += f\"<tr><td width='100px'><b>{ref}</b></td><td style='text-align: left !important;'>\"\n",
    "    for word in macula_tsv_for_roi:\n",
    "        text = word[\"text\"]\n",
    "        if word[\"xml:id\"] in id_list:\n",
    "            text = \"<span style='background-color: #FFFF00'>\" + text + \"</span>\"\n",
    "        after = word[\"after\"]\n",
    "        html_string += text + after\n",
    "    html_string += \"</td></tr>\"\n",
    "html_string += \"</table>\"\n",
    "\n",
    "display(HTML(html_string))\n"
   ]
  }
 ],
 "metadata": {
  "kernelspec": {
   "display_name": "Python 3",
   "language": "python",
   "name": "python3"
  },
  "language_info": {
   "codemirror_mode": {
    "name": "ipython",
    "version": 3
   },
   "file_extension": ".py",
   "mimetype": "text/x-python",
   "name": "python",
   "nbconvert_exporter": "python",
   "pygments_lexer": "ipython3",
   "version": "3.11.4"
  }
 },
 "nbformat": 4,
 "nbformat_minor": 2
}
