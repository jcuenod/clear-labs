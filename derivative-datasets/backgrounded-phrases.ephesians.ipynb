{
 "cells": [
  {
   "cell_type": "code",
   "execution_count": 1,
   "metadata": {},
   "outputs": [
    {
     "name": "stdout",
     "output_type": "stream",
     "text": [
      "Number of words: 2416\n",
      "Παῦλος\n",
      "ἀπόστολος\n",
      "Χριστοῦ\n",
      "Ἰησοῦ\n",
      "διὰ\n"
     ]
    }
   ],
   "source": [
    "# Import macula lowfat xml\n",
    "import lxml.etree as ET\n",
    "\n",
    "xml_root = \"/home/jcuenod/Programming/symphony-stuff/symphony-backend-atlas-internal/data/Clear-Bible/macula-greek/SBLGNT/lowfat\"\n",
    "file_name = \"10-ephesians.xml\"\n",
    "tree = ET.parse(xml_root + \"/\" + file_name)\n",
    "root = tree.getroot()\n",
    "\n",
    "# Get all the words\n",
    "words = root.findall(\".//w\")\n",
    "print(\"Number of words: \" + str(len(words)))\n",
    "\n",
    "# print the first 5 words\n",
    "for word in words[:5]:\n",
    "    print(word.text)"
   ]
  },
  {
   "cell_type": "code",
   "execution_count": 2,
   "metadata": {},
   "outputs": [
    {
     "name": "stdout",
     "output_type": "stream",
     "text": [
      "Number of main clauses: 170\n",
      "ἐξελέξατο\n",
      "ἐχαρίτωσεν\n",
      "ἔχομεν\n",
      "ἐπερίσσευσεν\n",
      "προέθετο\n"
     ]
    }
   ],
   "source": [
    "from util import find_main_clause_verbs\n",
    "main_clause_candidates = find_main_clause_verbs(root)\n",
    "print(\"Number of main clauses: \" + str(len(main_clause_candidates)))\n",
    "for clause in main_clause_candidates[:5]:\n",
    "    print(clause.text)"
   ]
  },
  {
   "cell_type": "code",
   "execution_count": 16,
   "metadata": {},
   "outputs": [
    {
     "name": "stdout",
     "output_type": "stream",
     "text": [
      "Number of adjunct participle candidates: 15\n"
     ]
    }
   ],
   "source": [
    "# Now we iterate through the main_clause_candidates and find adjunct participles that\n",
    "#  (1) precede the main clause\n",
    "#  (2) are not substantive\n",
    "\n",
    "from util import find_non_substantive_participles\n",
    "\n",
    "adjunct_participle_candidates = []\n",
    "for main_clause_verb in main_clause_candidates:\n",
    "    # iterate through siblings that precede the main clause\n",
    "    for sibling in main_clause_verb.itersiblings(preceding=True):\n",
    "        if sibling.attrib.get(\"role\") != \"adv\":\n",
    "            continue\n",
    "        adjunct_participles = find_non_substantive_participles(sibling)\n",
    "        if len(adjunct_participles) > 0:\n",
    "            adjunct_participle_candidates.append((main_clause_verb, sibling))\n",
    "            continue\n",
    "\n",
    "print(\"Number of adjunct participle candidates: \" + str(len(adjunct_participle_candidates)))"
   ]
  },
  {
   "cell_type": "code",
   "execution_count": 18,
   "metadata": {},
   "outputs": [],
   "source": [
    "# now we're going to create a list of macula ids for each word in the adjunct and pair it with a verse ref\n",
    "def get_id(node):\n",
    "    return node.attrib.get(\"{http://www.w3.org/XML/1998/namespace}id\")\n",
    "\n",
    "def get_id_list(node):\n",
    "    words = node.findall(\".//w\")\n",
    "    return [get_id(word) for word in words]\n",
    "\n",
    "def get_ref(node):\n",
    "    return node.attrib.get(\"ref\").split(\"!\")[0]\n",
    "\n",
    "id_list_by_ref = []\n",
    "for candidate in adjunct_participle_candidates:\n",
    "    verb = candidate[0]\n",
    "    adjunct = candidate[1]\n",
    "    # Imperfect \n",
    "    ref = get_ref(adjunct.find(\".//w[@ref]\"))\n",
    "    id_list_by_ref.append((ref, get_id(verb), get_id_list(adjunct)))"
   ]
  },
  {
   "cell_type": "code",
   "execution_count": 19,
   "metadata": {},
   "outputs": [],
   "source": [
    "# export to csv\n",
    "import csv\n",
    "with open('backgrounded-phrases.ephesians.csv', 'w', newline='') as csvfile:\n",
    "    writer = csv.writer(csvfile)\n",
    "    for row in id_list_by_ref:\n",
    "        writer.writerow(row)"
   ]
  },
  {
   "cell_type": "code",
   "execution_count": 20,
   "metadata": {},
   "outputs": [
    {
     "name": "stdout",
     "output_type": "stream",
     "text": [
      "('EPH 1:13', 'n49001013019', ['n49001013015', 'n49001013016', 'n49001013017', 'n49001013018'])\n"
     ]
    }
   ],
   "source": [
    "print(id_list_by_ref[0])"
   ]
  },
  {
   "cell_type": "code",
   "execution_count": 24,
   "metadata": {},
   "outputs": [
    {
     "data": {
      "text/html": [
       "<table><tr><td width='100px'><b>EPH 1:13</b></td><td style='text-align: left !important;'>ἐν ᾧ καὶ ὑμεῖς ἀκούσαντες τὸν λόγον τῆς ἀληθείας,τὸ εὐαγγέλιον τῆς σωτηρίας ὑμῶν,<span style='background-color: #FED7AA'>ἐν</span> <span style='background-color: #FED7AA'>ᾧ</span> <span style='background-color: #FED7AA'>καὶ</span> <span style='background-color: #FED7AA'>πιστεύσαντες</span> <span style='background-color: #93C5FD'>ἐσφραγίσθητε</span> τῷ πνεύματι τῆς ἐπαγγελίας τῷ ἁγίῳ,</td></tr><tr><td width='100px'><b>EPH 1:13</b></td><td style='text-align: left !important;'>ἐν ᾧ καὶ ὑμεῖς <span style='background-color: #FED7AA'>ἀκούσαντες</span> <span style='background-color: #FED7AA'>τὸν</span> <span style='background-color: #FED7AA'>λόγον</span> <span style='background-color: #FED7AA'>τῆς</span> <span style='background-color: #FED7AA'>ἀληθείας</span>,<span style='background-color: #FED7AA'>τὸ</span> <span style='background-color: #FED7AA'>εὐαγγέλιον</span> <span style='background-color: #FED7AA'>τῆς</span> <span style='background-color: #FED7AA'>σωτηρίας</span> <span style='background-color: #FED7AA'>ὑμῶν</span>,ἐν ᾧ καὶ πιστεύσαντες <span style='background-color: #93C5FD'>ἐσφραγίσθητε</span> τῷ πνεύματι τῆς ἐπαγγελίας τῷ ἁγίῳ,</td></tr><tr><td width='100px'><b>EPH 1:15</b></td><td style='text-align: left !important;'>Διὰ τοῦτο κἀγώ,<span style='background-color: #FED7AA'>ἀκούσας</span> <span style='background-color: #FED7AA'>τὴν</span> <span style='background-color: #FED7AA'>καθ’</span> <span style='background-color: #FED7AA'>ὑμᾶς</span> <span style='background-color: #FED7AA'>πίστιν</span> <span style='background-color: #FED7AA'>ἐν</span> <span style='background-color: #FED7AA'>τῷ</span> <span style='background-color: #FED7AA'>κυρίῳ</span> <span style='background-color: #FED7AA'>Ἰησοῦ</span> <span style='background-color: #FED7AA'>καὶ</span> <span style='background-color: #FED7AA'>τὴν</span> <span style='background-color: #FED7AA'>ἀγάπην</span> <span style='background-color: #FED7AA'>τὴν</span> <span style='background-color: #FED7AA'>εἰς</span> <span style='background-color: #FED7AA'>πάντας</span> <span style='background-color: #FED7AA'>τοὺς</span> <span style='background-color: #FED7AA'>ἁγίους</span>,</td></tr><tr><td width='100px'><b>EPH 2:1</b></td><td style='text-align: left !important;'>Καὶ <span style='background-color: #FED7AA'>ὑμᾶς</span> <span style='background-color: #FED7AA'>ὄντας</span> <span style='background-color: #FED7AA'>νεκροὺς</span> <span style='background-color: #FED7AA'>τοῖς</span> <span style='background-color: #FED7AA'>παραπτώμασιν</span> <span style='background-color: #FED7AA'>καὶ</span> <span style='background-color: #FED7AA'>ταῖς</span> <span style='background-color: #FED7AA'>ἁμαρτίαις</span> <span style='background-color: #FED7AA'>ὑμῶν</span>,</td></tr><tr><td width='100px'><b>EPH 2:5</b></td><td style='text-align: left !important;'><span style='background-color: #FED7AA'>καὶ</span> <span style='background-color: #FED7AA'>ὄντας</span> <span style='background-color: #FED7AA'>ἡμᾶς</span> <span style='background-color: #FED7AA'>νεκροὺς</span> <span style='background-color: #FED7AA'>τοῖς</span> <span style='background-color: #FED7AA'>παραπτώμασιν</span> <span style='background-color: #93C5FD'>συνεζωοποίησεν</span> τῷ Χριστῷ χάριτί ἐστε σεσῳσμένοι </td></tr><tr><td width='100px'><b>EPH 2:4</b></td><td style='text-align: left !important;'>ὁ δὲ θεὸς <span style='background-color: #FED7AA'>πλούσιος</span> <span style='background-color: #FED7AA'>ὢν</span> <span style='background-color: #FED7AA'>ἐν</span> <span style='background-color: #FED7AA'>ἐλέει</span>,διὰ τὴν πολλὴν ἀγάπην αὐτοῦ ἣν ἠγάπησεν ἡμᾶς,</td></tr><tr><td width='100px'><b>EPH 2:17</b></td><td style='text-align: left !important;'>καὶ <span style='background-color: #FED7AA'>ἐλθὼν</span> <span style='background-color: #93C5FD'>εὐηγγελίσατο</span> εἰρήνην ὑμῖν τοῖς μακρὰν καὶ εἰρήνην τοῖς ἐγγύς·</td></tr><tr><td width='100px'><b>EPH 2:21</b></td><td style='text-align: left !important;'>ἐν ᾧ πᾶσα οἰκοδομὴ <span style='background-color: #FED7AA'>συναρμολογουμένη</span> <span style='background-color: #93C5FD'>αὔξει</span> εἰς ναὸν ἅγιον ἐν κυρίῳ,</td></tr><tr><td width='100px'><b>EPH 4:8</b></td><td style='text-align: left !important;'>διὸ λέγει·<span style='background-color: #FED7AA'>Ἀναβὰς</span> <span style='background-color: #FED7AA'>εἰς</span> <span style='background-color: #FED7AA'>ὕψος</span> <span style='background-color: #93C5FD'>ᾐχμαλώτευσεν</span> αἰχμαλωσίαν,ἔδωκεν δόματα τοῖς ἀνθρώποις.</td></tr><tr><td width='100px'><b>EPH 4:15</b></td><td style='text-align: left !important;'><span style='background-color: #FED7AA'>ἀληθεύοντες</span> δὲ <span style='background-color: #FED7AA'>ἐν</span> <span style='background-color: #FED7AA'>ἀγάπῃ</span> <span style='background-color: #93C5FD'>αὐξήσωμεν</span> εἰς αὐτὸν τὰ πάντα,ὅς ἐστιν ἡ κεφαλή,Χριστός,</td></tr><tr><td width='100px'><b>EPH 4:16</b></td><td style='text-align: left !important;'>ἐξ οὗ πᾶν τὸ σῶμα <span style='background-color: #FED7AA'>συναρμολογούμενον</span> <span style='background-color: #FED7AA'>καὶ</span> <span style='background-color: #FED7AA'>συμβιβαζόμενον</span> <span style='background-color: #FED7AA'>διὰ</span> <span style='background-color: #FED7AA'>πάσης</span> <span style='background-color: #FED7AA'>ἁφῆς</span> <span style='background-color: #FED7AA'>τῆς</span> <span style='background-color: #FED7AA'>ἐπιχορηγίας</span> <span style='background-color: #FED7AA'>κατ’</span> <span style='background-color: #FED7AA'>ἐνέργειαν</span> <span style='background-color: #FED7AA'>ἐν</span> <span style='background-color: #FED7AA'>μέτρῳ</span> <span style='background-color: #FED7AA'>ἑνὸς</span> <span style='background-color: #FED7AA'>ἑκάστου</span> <span style='background-color: #FED7AA'>μέρους</span> τὴν αὔξησιν τοῦ σώματος <span style='background-color: #93C5FD'>ποιεῖται</span> εἰς οἰκοδομὴν ἑαυτοῦ ἐν ἀγάπῃ.</td></tr><tr><td width='100px'><b>EPH 4:19</b></td><td style='text-align: left !important;'>οἵτινες <span style='background-color: #FED7AA'>ἀπηλγηκότες</span> ἑαυτοὺς <span style='background-color: #93C5FD'>παρέδωκαν</span> τῇ ἀσελγείᾳ εἰς ἐργασίαν ἀκαθαρσίας πάσης ἐν πλεονεξίᾳ.</td></tr><tr><td width='100px'><b>EPH 4:25</b></td><td style='text-align: left !important;'>Διὸ <span style='background-color: #FED7AA'>ἀποθέμενοι</span> <span style='background-color: #FED7AA'>τὸ</span> <span style='background-color: #FED7AA'>ψεῦδος</span> <span style='background-color: #93C5FD'>λαλεῖτε</span> ἀλήθειαν ἕκαστος μετὰ τοῦ πλησίον αὐτοῦ,ὅτι ἐσμὲν ἀλλήλων μέλη.</td></tr><tr><td width='100px'><b>EPH 5:13</b></td><td style='text-align: left !important;'>τὰ δὲ πάντα <span style='background-color: #FED7AA'>ἐλεγχόμενα</span> <span style='background-color: #FED7AA'>ὑπὸ</span> <span style='background-color: #FED7AA'>τοῦ</span> <span style='background-color: #FED7AA'>φωτὸς</span> <span style='background-color: #93C5FD'>φανεροῦται</span>,</td></tr><tr><td width='100px'><b>EPH 6:13</b></td><td style='text-align: left !important;'>διὰ τοῦτο ἀναλάβετε τὴν πανοπλίαν τοῦ θεοῦ,ἵνα δυνηθῆτε ἀντιστῆναι ἐν τῇ ἡμέρᾳ τῇ πονηρᾷ καὶ <span style='background-color: #FED7AA'>ἅπαντα</span> <span style='background-color: #FED7AA'>κατεργασάμενοι</span> <span style='background-color: #93C5FD'>στῆναι</span>.</td></tr></table>"
      ],
      "text/plain": [
       "<IPython.core.display.HTML object>"
      ]
     },
     "metadata": {},
     "output_type": "display_data"
    }
   ],
   "source": [
    "from util import macula_tsv_by_ref\n",
    "from IPython.display import display, HTML\n",
    "\n",
    "html_string = \"<table>\"\n",
    "for ref, verb, id_list in id_list_by_ref:\n",
    "    # get the macula tsv for the roi\n",
    "    macula_tsv_for_roi = macula_tsv_by_ref[ref]\n",
    "\n",
    "    html_string += f\"<tr><td width='100px'><b>{ref}</b></td><td style='text-align: left !important;'>\"\n",
    "    for word in macula_tsv_for_roi:\n",
    "        text = word[\"text\"]\n",
    "        if word[\"xml:id\"] == verb:\n",
    "            text = \"<span style='background-color: #93C5FD'>\" + text + \"</span>\"\n",
    "        if word[\"xml:id\"] in id_list:\n",
    "            text = \"<span style='background-color: #FED7AA'>\" + text + \"</span>\"\n",
    "        after = word[\"after\"]\n",
    "        html_string += text + after\n",
    "    html_string += \"</td></tr>\"\n",
    "html_string += \"</table>\"\n",
    "\n",
    "display(HTML(html_string))"
   ]
  }
 ],
 "metadata": {
  "kernelspec": {
   "display_name": "Python 3",
   "language": "python",
   "name": "python3"
  },
  "language_info": {
   "codemirror_mode": {
    "name": "ipython",
    "version": 3
   },
   "file_extension": ".py",
   "mimetype": "text/x-python",
   "name": "python",
   "nbconvert_exporter": "python",
   "pygments_lexer": "ipython3",
   "version": "3.11.4"
  }
 },
 "nbformat": 4,
 "nbformat_minor": 2
}
