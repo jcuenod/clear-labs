{
 "cells": [
  {
   "cell_type": "code",
   "execution_count": 63,
   "metadata": {},
   "outputs": [
    {
     "name": "stdout",
     "output_type": "stream",
     "text": [
      "Number of words: 18329\n",
      "Βίβλος\n",
      "γενέσεως\n",
      "Ἰησοῦ\n",
      "χριστοῦ\n",
      "υἱοῦ\n",
      "Δαυὶδ\n",
      "υἱοῦ\n",
      "Ἀβραάμ\n",
      "Ἀβραὰμ\n",
      "ἐγέννησεν\n"
     ]
    }
   ],
   "source": [
    "# Import macula lowfat xml\n",
    "import lxml.etree as ET\n",
    "\n",
    "xml_root = \"/home/jcuenod/Programming/symphony-stuff/symphony-backend-atlas-internal/data/Clear-Bible/macula-greek/SBLGNT/lowfat\"\n",
    "file_name = \"01-matthew.xml\"\n",
    "tree = ET.parse(xml_root + \"/\" + file_name)\n",
    "root = tree.getroot()\n",
    "\n",
    "# Get all the words\n",
    "words = root.findall(\".//w\")\n",
    "print(\"Number of words: \" + str(len(words)))\n",
    "\n",
    "# print the first 10 words\n",
    "for word in words[:10]:\n",
    "    print(word.text)"
   ]
  },
  {
   "cell_type": "code",
   "execution_count": 64,
   "metadata": {},
   "outputs": [
    {
     "name": "stdout",
     "output_type": "stream",
     "text": [
      "Number of main clauses: 2744\n",
      "ἐγέννησεν\n",
      "ἐγέννησεν\n",
      "ἐγέννησεν\n",
      "ἐγέννησεν\n",
      "ἐγέννησεν\n",
      "ἐγέννησεν\n",
      "ἐγέννησεν\n",
      "ἐγέννησεν\n",
      "ἐγέννησεν\n",
      "ἐγέννησεν\n"
     ]
    }
   ],
   "source": [
    "# find words with both role as 'v' and mood must be either 'indicative' or 'imperative' or 'subjunctive' or 'infinitive'\n",
    "main_clause_candidates = root.xpath(\".//w[@role='v' and (@mood='indicative' or @mood='imperative' or @mood='subjunctive' or @mood='infinitive')]\")\n",
    "print(\"Number of main clauses: \" + str(len(main_clause_candidates)))\n",
    "for clause in main_clause_candidates[:10]:\n",
    "    print(clause.text)"
   ]
  },
  {
   "cell_type": "code",
   "execution_count": 126,
   "metadata": {},
   "outputs": [
    {
     "name": "stdout",
     "output_type": "stream",
     "text": [
      "θέλων {'role': 'v', 'ref': 'MAT 1:19!10', 'after': ' ', 'class': 'verb', '{http://www.w3.org/XML/1998/namespace}id': 'n40001019010', 'lemma': 'θέλω', 'normalized': 'θέλων', 'strong': '2309', 'number': 'singular', 'gender': 'masculine', 'case': 'nominative', 'tense': 'present', 'voice': 'active', 'mood': 'participle', 'english': 'wanting', 'mandarin': '愿意', 'gloss': 'willing', 'domain': '025001', 'ln': '25.1', 'morph': 'V-PAP-NSM', 'unicode': 'θέλων', 'frame': 'A0:n40001019001 A1:n40001019012', 'subjref': 'n40001019001'}\n",
      "ἐγερθεὶς {'role': 'v', 'ref': 'MAT 1:24!1', 'after': ' ', 'class': 'verb', '{http://www.w3.org/XML/1998/namespace}id': 'n40001024001', 'lemma': 'ἐγείρω', 'normalized': 'ἐγερθείς', 'strong': '1453', 'number': 'singular', 'gender': 'masculine', 'case': 'nominative', 'tense': 'aorist', 'voice': 'passive', 'mood': 'participle', 'english': 'woke up', 'mandarin': '醒来', 'gloss': 'Having been awoken', 'domain': '023005', 'ln': '23.74', 'morph': 'V-APP-NSM', 'unicode': 'ἐγερθεὶς', 'frame': 'A1:n40001024004', 'subjref': 'n40001024004'}\n",
      "ἀκούσας {'role': 'v', 'ref': 'MAT 2:3!1', 'after': ' ', 'class': 'verb', '{http://www.w3.org/XML/1998/namespace}id': 'n40002003001', 'lemma': 'ἀκούω', 'normalized': 'ἀκούσας', 'strong': '191', 'number': 'singular', 'gender': 'masculine', 'case': 'nominative', 'tense': 'aorist', 'voice': 'active', 'mood': 'participle', 'english': 'heard', 'mandarin': '听见', 'gloss': 'Having heard', 'domain': '033015', 'ln': '33.212', 'morph': 'V-AAP-NSM', 'unicode': 'ἀκούσας', 'frame': 'A0:n40002003004', 'subjref': 'n40002003004'}\n",
      "συναγαγὼν {'role': 'v', 'ref': 'MAT 2:4!2', 'after': ' ', 'class': 'verb', '{http://www.w3.org/XML/1998/namespace}id': 'n40002004002', 'lemma': 'συνάγω', 'normalized': 'συναγαγών', 'strong': '4863', 'number': 'singular', 'gender': 'masculine', 'case': 'nominative', 'tense': 'aorist', 'voice': 'active', 'mood': 'participle', 'english': 'calling together', 'mandarin': '召集', 'gloss': 'having gathered together', 'domain': '015013', 'ln': '15.125', 'morph': 'V-2AAP-NSM', 'unicode': 'συναγαγὼν', 'frame': 'A0:n40002003004 A1:n40002004005;n40002004007', 'subjref': 'n40002003004'}\n",
      "καλέσας {'role': 'v', 'ref': 'MAT 2:7!4', 'after': ' ', 'class': 'verb', '{http://www.w3.org/XML/1998/namespace}id': 'n40002007004', 'lemma': 'καλέω', 'normalized': 'καλέσας', 'strong': '2564', 'number': 'singular', 'gender': 'masculine', 'case': 'nominative', 'tense': 'aorist', 'voice': 'active', 'mood': 'participle', 'english': 'summoned', 'mandarin': '召~来', 'gloss': 'having called', 'domain': '033029', 'ln': '33.307', 'morph': 'V-AAP-NSM', 'unicode': 'καλέσας', 'frame': 'A0:n40002007002 A1:n40002007006', 'subjref': 'n40002007002'}\n",
      "πέμψας {'role': 'v', 'ref': 'MAT 2:8!2', 'after': ' ', 'class': 'verb', '{http://www.w3.org/XML/1998/namespace}id': 'n40002008002', 'lemma': 'πέμπω', 'normalized': 'πέμψας', 'strong': '3992', 'number': 'singular', 'gender': 'masculine', 'case': 'nominative', 'tense': 'aorist', 'voice': 'active', 'mood': 'participle', 'english': 'sent', 'mandarin': '派', 'gloss': 'having sent', 'domain': '015004', 'ln': '15.66', 'morph': 'V-AAP-NSM', 'unicode': 'πέμψας', 'frame': 'A0:n40002007002 A1:n40002008003', 'subjref': 'n40002007002'}\n",
      "Πορευθέντες {'role': 'v', 'ref': 'MAT 2:8!7', 'after': ' ', 'class': 'verb', '{http://www.w3.org/XML/1998/namespace}id': 'n40002008007', 'lemma': 'πορεύομαι', 'normalized': 'πορευθέντες', 'strong': '4198', 'number': 'plural', 'gender': 'masculine', 'case': 'nominative', 'tense': 'aorist', 'voice': 'passive', 'mood': 'participle', 'english': 'go', 'mandarin': '去', 'gloss': 'Having gone', 'domain': '015004', 'ln': '15.34', 'morph': 'V-AOP-NPM', 'unicode': 'Πορευθέντες', 'frame': 'A1:n40002007006', 'subjref': 'n40002007006'}\n",
      "ἐλθὼν {'role': 'v', 'ref': 'MAT 2:8!20', 'after': ' ', 'class': 'verb', '{http://www.w3.org/XML/1998/namespace}id': 'n40002008020', 'lemma': 'ἔρχομαι', 'normalized': 'ἐλθών', 'strong': '2064', 'number': 'singular', 'gender': 'masculine', 'case': 'nominative', 'tense': 'aorist', 'voice': 'active', 'mood': 'participle', 'english': 'come', 'mandarin': '去', 'gloss': 'having come', 'domain': '015006', 'ln': '15.81', 'morph': 'V-2AAP-NSM', 'unicode': 'ἐλθὼν', 'frame': 'A0:n40002007002', 'subjref': 'n40002007002'}\n",
      "ἀκούσαντες {'role': 'v', 'ref': 'MAT 2:9!3', 'after': ' ', 'class': 'verb', '{http://www.w3.org/XML/1998/namespace}id': 'n40002009003', 'lemma': 'ἀκούω', 'normalized': 'ἀκούσαντες', 'strong': '191', 'number': 'plural', 'gender': 'masculine', 'case': 'nominative', 'tense': 'aorist', 'voice': 'active', 'mood': 'participle', 'english': 'heard', 'mandarin': '听', 'gloss': 'having heard', 'domain': '024002', 'ln': '24.63', 'morph': 'V-AAP-NPM', 'unicode': 'ἀκούσαντες', 'frame': 'A0:n40002007006 A1:n40002009005', 'subjref': 'n40002007006'}\n",
      "ἐλθὼν {'role': 'v', 'ref': 'MAT 2:9!19', 'after': ' ', 'class': 'verb', '{http://www.w3.org/XML/1998/namespace}id': 'n40002009019', 'lemma': 'ἔρχομαι', 'normalized': 'ἐλθών', 'strong': '2064', 'number': 'singular', 'gender': 'masculine', 'case': 'nominative', 'tense': 'aorist', 'voice': 'active', 'mood': 'participle', 'english': 'came', 'mandarin': '到', 'gloss': 'having arrived', 'domain': '015006', 'ln': '15.81', 'morph': 'V-2AAP-NSM', 'unicode': 'ἐλθὼν', 'frame': 'A0:n40002009010', 'subjref': 'n40002009010'}\n",
      "Number of adjunct participle candidates: 362\n"
     ]
    }
   ],
   "source": [
    "# we're looking for siblings of the main_clause_candidates that have a child with a role of v or vc but mood participle\n",
    "# sibling must precede the main clause\n",
    "SHOULD_PRINT_PARTICIPLE_CANDIDATES = True\n",
    "print_counter = 0\n",
    "adjunct_participle_candidates = []\n",
    "for clause in main_clause_candidates:\n",
    "    # get siblings that precede the main clause\n",
    "    siblings = clause.itersiblings(preceding=True)\n",
    "    for sibling in siblings:\n",
    "        # sibling role must be adv (note sibling may not have a \"role\")\n",
    "        if sibling.attrib.get(\"role\") != \"adv\":\n",
    "            continue\n",
    "        adjunct_participles = sibling.find(\".//w[@role='v'][@mood='participle']\")\n",
    "        if adjunct_participles is not None:\n",
    "            adjunct_participle_candidates.append(sibling)\n",
    "            if SHOULD_PRINT_PARTICIPLE_CANDIDATES and print_counter < 10:\n",
    "                print(adjunct_participles.text, adjunct_participles.attrib)\n",
    "                print_counter += 1\n",
    "            continue\n",
    "        adjunct_participles = sibling.find(\".//w[@role='vc'][@mood='participle']\")\n",
    "        if adjunct_participles is not None:\n",
    "            adjunct_participle_candidates.append(sibling)\n",
    "            if SHOULD_PRINT_PARTICIPLE_CANDIDATES and print_counter < 10:\n",
    "                print(adjunct_participles.text, adjunct_participles.attrib)\n",
    "                print_counter += 1\n",
    "            continue\n",
    "\n",
    "print(\"Number of adjunct participle candidates: \" + str(len(adjunct_participle_candidates)))"
   ]
  },
  {
   "cell_type": "code",
   "execution_count": 128,
   "metadata": {},
   "outputs": [
    {
     "name": "stdout",
     "output_type": "stream",
     "text": [
      "MAT 1:19    δίκαιος ὢν καὶ μὴ θέλων αὐτὴν δειγματίσαι \n",
      "MAT 1:24    ἐγερθεὶς ἀπὸ τοῦ ὕπνου \n",
      "MAT 2:3     ἀκούσας \n",
      "MAT 2:4     συναγαγὼν πάντας τοὺς ἀρχιερεῖς καὶ γραμματεῖς τοῦ λαοῦ \n",
      "MAT 2:7     λάθρᾳ καλέσας τοὺς μάγους \n",
      "MAT 2:8     πέμψας αὐτοὺς εἰς Βηθλέεμ \n",
      "MAT 2:8     Πορευθέντες \n",
      "MAT 2:8     ἐλθὼν \n",
      "MAT 2:9     ἀκούσαντες τοῦ βασιλέως \n",
      "MAT 2:9     ἐλθὼν \n"
     ]
    }
   ],
   "source": [
    "# now we're going to get the text corresponding to the adjunct\n",
    "\n",
    "import re\n",
    "def get_text(node):\n",
    "    text = ''.join(node.itertext())\n",
    "    text = re.sub(r'\\s+', ' ', text)\n",
    "    return text\n",
    "\n",
    "def get_id_list(node):\n",
    "    words = node.findall(\".//w\")\n",
    "    return [word.attrib.get(\"{http://www.w3.org/XML/1998/namespace}id\") for word in words]\n",
    "\n",
    "print_counter = 0\n",
    "id_list_by_ref = []\n",
    "for candidate in adjunct_participle_candidates:\n",
    "    \n",
    "    # It's useful to print with a ref, this is just a rough-and-ready way to do it (not perfect)\n",
    "    ref = candidate.find(\".//w[@ref]\")\n",
    "    actual_ref = ref.attrib.get(\"ref\").split(\"!\")[0]\n",
    "    ref_to_print = actual_ref + \" \" * (10 - len(actual_ref))\n",
    "\n",
    "    id_list_by_ref.append((actual_ref, get_id_list(candidate)))\n",
    "    if print_counter < 10:\n",
    "        print(ref_to_print, get_text(candidate))\n",
    "        print_counter += 1\n"
   ]
  },
  {
   "cell_type": "code",
   "execution_count": 80,
   "metadata": {},
   "outputs": [],
   "source": [
    "# Differences are mainly the inclusion of the subject in Logos data\n",
    "\n",
    "# I list more significant differences below.\n",
    "# False Negatives:\n",
    "\n",
    "# False Positives:\n",
    "#  - 5:46\n",
    "#  - 7:11\n",
    "#  - 8:34"
   ]
  },
  {
   "cell_type": "code",
   "execution_count": 129,
   "metadata": {},
   "outputs": [],
   "source": [
    "# export to csv\n",
    "import csv\n",
    "with open('backgrounded-phrases.csv', 'w', newline='') as csvfile:\n",
    "    writer = csv.writer(csvfile)\n",
    "    for row in id_list_by_ref:\n",
    "        writer.writerow(row)"
   ]
  },
  {
   "cell_type": "code",
   "execution_count": 131,
   "metadata": {},
   "outputs": [
    {
     "name": "stdout",
     "output_type": "stream",
     "text": [
      "['xml:id', 'ref', 'role', 'class', 'type', 'english', 'mandarin', 'gloss', 'text', 'after', 'lemma', 'normalized', 'strong', 'morph', 'person', 'number', 'gender', 'case', 'tense', 'voice', 'mood', 'degree', 'domain', 'ln', 'frame', 'subjref', 'referent']\n",
      "{'xml:id': 'n40001001001', 'ref': 'MAT 1:1!1', 'role': '', 'class': 'noun', 'type': 'common', 'english': 'book', 'mandarin': '谱', 'gloss': '[The] book', 'text': 'Βίβλος', 'after': ' ', 'lemma': 'βίβλος', 'normalized': 'βίβλος', 'strong': '976', 'morph': 'N-NSF', 'person': '', 'number': 'singular', 'gender': 'feminine', 'case': 'nominative', 'tense': '', 'voice': '', 'mood': '', 'degree': '', 'domain': '033005', 'ln': '33.38', 'frame': '', 'subjref': '', 'referent': ''}\n"
     ]
    }
   ],
   "source": [
    "# Let's use the macula TSV to print out verses and highlight backgrounded phrases\n",
    "\n",
    "# Get the macula TSV\n",
    "import csv\n",
    "path_to_macula_tsv = \"/home/jcuenod/Programming/symphony-stuff/symphony-backend-atlas-internal/data/Clear-Bible/macula-greek/SBLGNT/tsv/macula-greek-SBLGNT.tsv\"\n",
    "with open(path_to_macula_tsv, newline='') as csvfile:\n",
    "    reader = csv.reader(csvfile, delimiter='\\t')\n",
    "    macula_tsv = list(reader)\n",
    "# first row is the header\n",
    "header = macula_tsv[0]\n",
    "print(header)\n",
    "# convert to dictionarys\n",
    "macula_tsv = [dict(zip(header, row)) for row in macula_tsv[1:]]\n",
    "\n",
    "# show the first row\n",
    "print(macula_tsv[0])"
   ]
  },
  {
   "cell_type": "code",
   "execution_count": 93,
   "metadata": {},
   "outputs": [
    {
     "name": "stdout",
     "output_type": "stream",
     "text": [
      "Number of verses: 7939\n",
      "[{'xml:id': 'n40001001001', 'ref': 'MAT 1:1!1', 'role': '', 'class': 'noun', 'type': 'common', 'english': 'book', 'mandarin': '谱', 'gloss': '[The] book', 'text': 'Βίβλος', 'after': ' ', 'lemma': 'βίβλος', 'normalized': 'βίβλος', 'strong': '976', 'morph': 'N-NSF', 'person': '', 'number': 'singular', 'gender': 'feminine', 'case': 'nominative', 'tense': '', 'voice': '', 'mood': '', 'degree': '', 'domain': '033005', 'ln': '33.38', 'frame': '', 'subjref': '', 'referent': ''}, {'xml:id': 'n40001001002', 'ref': 'MAT 1:1!2', 'role': '', 'class': 'noun', 'type': 'common', 'english': 'genealogy', 'mandarin': '族', 'gloss': 'of [the] genealogy', 'text': 'γενέσεως', 'after': ' ', 'lemma': 'γένεσις', 'normalized': 'γενέσεως', 'strong': '1078', 'morph': 'N-GSF', 'person': '', 'number': 'singular', 'gender': 'feminine', 'case': 'genitive', 'tense': '', 'voice': '', 'mood': '', 'degree': '', 'domain': '010002 033003', 'ln': '10.24 33.19', 'frame': '', 'subjref': '', 'referent': ''}, {'xml:id': 'n40001001003', 'ref': 'MAT 1:1!3', 'role': '', 'class': 'noun', 'type': 'proper', 'english': 'Jesus', 'mandarin': '耶稣', 'gloss': 'of Jesus', 'text': 'Ἰησοῦ', 'after': ' ', 'lemma': 'Ἰησοῦς', 'normalized': 'ἰησοῦ', 'strong': '2424', 'morph': 'N-GSM', 'person': '', 'number': 'singular', 'gender': 'masculine', 'case': 'genitive', 'tense': '', 'voice': '', 'mood': '', 'degree': '', 'domain': '093001', 'ln': '93.169a', 'frame': '', 'subjref': '', 'referent': ''}, {'xml:id': 'n40001001004', 'ref': 'MAT 1:1!4', 'role': '', 'class': 'noun', 'type': 'proper', 'english': 'Christ', 'mandarin': '基督', 'gloss': 'Christ', 'text': 'χριστοῦ', 'after': ' ', 'lemma': 'Χριστός', 'normalized': 'χριστοῦ', 'strong': '5547', 'morph': 'N-GSM', 'person': '', 'number': 'singular', 'gender': 'masculine', 'case': 'genitive', 'tense': '', 'voice': '', 'mood': '', 'degree': '', 'domain': '093001', 'ln': '93.387', 'frame': '', 'subjref': '', 'referent': ''}, {'xml:id': 'n40001001005', 'ref': 'MAT 1:1!5', 'role': '', 'class': 'noun', 'type': 'common', 'english': 'son', 'mandarin': '子孙', 'gloss': 'son', 'text': 'υἱοῦ', 'after': ' ', 'lemma': 'υἱός', 'normalized': 'υἱοῦ', 'strong': '5207', 'morph': 'N-GSM', 'person': '', 'number': 'singular', 'gender': 'masculine', 'case': 'genitive', 'tense': '', 'voice': '', 'mood': '', 'degree': '', 'domain': '010002', 'ln': '10.30', 'frame': '', 'subjref': '', 'referent': ''}, {'xml:id': 'n40001001006', 'ref': 'MAT 1:1!6', 'role': '', 'class': 'noun', 'type': 'proper', 'english': 'David', 'mandarin': '大卫', 'gloss': 'of David', 'text': 'Δαυὶδ', 'after': ' ', 'lemma': 'Δαυίδ', 'normalized': 'δαυίδ', 'strong': '1138', 'morph': 'N-PRI', 'person': '', 'number': 'singular', 'gender': 'masculine', 'case': 'genitive', 'tense': '', 'voice': '', 'mood': '', 'degree': '', 'domain': '093001', 'ln': '93.91', 'frame': '', 'subjref': '', 'referent': ''}, {'xml:id': 'n40001001007', 'ref': 'MAT 1:1!7', 'role': '', 'class': 'noun', 'type': 'common', 'english': 'son', 'mandarin': '后裔', 'gloss': 'son', 'text': 'υἱοῦ', 'after': ' ', 'lemma': 'υἱός', 'normalized': 'υἱοῦ', 'strong': '5207', 'morph': 'N-GSM', 'person': '', 'number': 'singular', 'gender': 'masculine', 'case': 'genitive', 'tense': '', 'voice': '', 'mood': '', 'degree': '', 'domain': '010002', 'ln': '10.30', 'frame': '', 'subjref': '', 'referent': ''}, {'xml:id': 'n40001001008', 'ref': 'MAT 1:1!8', 'role': '', 'class': 'noun', 'type': 'proper', 'english': 'Abraham', 'mandarin': '亚伯拉罕', 'gloss': 'of Abraham', 'text': 'Ἀβραάμ', 'after': '.', 'lemma': 'Ἀβραάμ', 'normalized': 'ἀβραάμ', 'strong': '11', 'morph': 'N-PRI', 'person': '', 'number': 'singular', 'gender': 'masculine', 'case': 'genitive', 'tense': '', 'voice': '', 'mood': '', 'degree': '', 'domain': '093001', 'ln': '93.7', 'frame': '', 'subjref': '', 'referent': ''}]\n"
     ]
    }
   ],
   "source": [
    "# Now we're grouping rows of macula_tsv by ref so we can get a whole verse at a time\n",
    "macula_tsv_by_ref = {}\n",
    "for row in macula_tsv:\n",
    "    ref = row.get(\"ref\").split(\"!\")[0]\n",
    "    if ref not in macula_tsv_by_ref:\n",
    "        macula_tsv_by_ref[ref] = []\n",
    "    macula_tsv_by_ref[ref].append(row)"
   ]
  },
  {
   "cell_type": "code",
   "execution_count": 108,
   "metadata": {},
   "outputs": [
    {
     "name": "stdout",
     "output_type": "stream",
     "text": [
      "('MAT 1:19', ['n40001019006', 'n40001019007', 'n40001019008', 'n40001019009', 'n40001019010', 'n40001019011', 'n40001019012'])\n"
     ]
    }
   ],
   "source": [
    "print(id_list_by_ref[0])"
   ]
  },
  {
   "cell_type": "code",
   "execution_count": 125,
   "metadata": {},
   "outputs": [
    {
     "data": {
      "text/html": [
       "<table><tr><td width='100px'><b>MAT 1:19</b></td><td style='text-align: left !important;'>Ἰωσὴφ δὲ ὁ ἀνὴρ αὐτῆς,<span style='background-color: #FFFF00'>δίκαιος</span> <span style='background-color: #FFFF00'>ὢν</span> <span style='background-color: #FFFF00'>καὶ</span> <span style='background-color: #FFFF00'>μὴ</span> <span style='background-color: #FFFF00'>θέλων</span> <span style='background-color: #FFFF00'>αὐτὴν</span> <span style='background-color: #FFFF00'>δειγματίσαι</span>,ἐβουλήθη λάθρᾳ ἀπολῦσαι αὐτήν.</td></tr><tr><td width='100px'><b>MAT 1:24</b></td><td style='text-align: left !important;'><span style='background-color: #FFFF00'>ἐγερθεὶς</span> δὲ ὁ Ἰωσὴφ <span style='background-color: #FFFF00'>ἀπὸ</span> <span style='background-color: #FFFF00'>τοῦ</span> <span style='background-color: #FFFF00'>ὕπνου</span> ἐποίησεν ὡς προσέταξεν αὐτῷ ὁ ἄγγελος κυρίου καὶ παρέλαβεν τὴν γυναῖκα αὐτοῦ·</td></tr><tr><td width='100px'><b>MAT 2:3</b></td><td style='text-align: left !important;'><span style='background-color: #FFFF00'>ἀκούσας</span> δὲ ὁ βασιλεὺς Ἡρῴδης ἐταράχθη καὶ πᾶσα Ἱεροσόλυμα μετ’ αὐτοῦ,</td></tr><tr><td width='100px'><b>MAT 2:4</b></td><td style='text-align: left !important;'>καὶ <span style='background-color: #FFFF00'>συναγαγὼν</span> <span style='background-color: #FFFF00'>πάντας</span> <span style='background-color: #FFFF00'>τοὺς</span> <span style='background-color: #FFFF00'>ἀρχιερεῖς</span> <span style='background-color: #FFFF00'>καὶ</span> <span style='background-color: #FFFF00'>γραμματεῖς</span> <span style='background-color: #FFFF00'>τοῦ</span> <span style='background-color: #FFFF00'>λαοῦ</span> ἐπυνθάνετο παρ’ αὐτῶν ποῦ ὁ χριστὸς γεννᾶται.</td></tr><tr><td width='100px'><b>MAT 2:7</b></td><td style='text-align: left !important;'>Τότε Ἡρῴδης <span style='background-color: #FFFF00'>λάθρᾳ</span> <span style='background-color: #FFFF00'>καλέσας</span> <span style='background-color: #FFFF00'>τοὺς</span> <span style='background-color: #FFFF00'>μάγους</span> ἠκρίβωσεν παρ’ αὐτῶν τὸν χρόνον τοῦ φαινομένου ἀστέρος,</td></tr><tr><td width='100px'><b>MAT 2:8</b></td><td style='text-align: left !important;'>καὶ <span style='background-color: #FFFF00'>πέμψας</span> <span style='background-color: #FFFF00'>αὐτοὺς</span> <span style='background-color: #FFFF00'>εἰς</span> <span style='background-color: #FFFF00'>Βηθλέεμ</span> εἶπεν·Πορευθέντες ἐξετάσατε ἀκριβῶς περὶ τοῦ παιδίου·ἐπὰν δὲ εὕρητε,ἀπαγγείλατέ μοι,ὅπως κἀγὼ ἐλθὼν προσκυνήσω αὐτῷ.</td></tr><tr><td width='100px'><b>MAT 2:8</b></td><td style='text-align: left !important;'>καὶ πέμψας αὐτοὺς εἰς Βηθλέεμ εἶπεν·<span style='background-color: #FFFF00'>Πορευθέντες</span> ἐξετάσατε ἀκριβῶς περὶ τοῦ παιδίου·ἐπὰν δὲ εὕρητε,ἀπαγγείλατέ μοι,ὅπως κἀγὼ ἐλθὼν προσκυνήσω αὐτῷ.</td></tr><tr><td width='100px'><b>MAT 2:8</b></td><td style='text-align: left !important;'>καὶ πέμψας αὐτοὺς εἰς Βηθλέεμ εἶπεν·Πορευθέντες ἐξετάσατε ἀκριβῶς περὶ τοῦ παιδίου·ἐπὰν δὲ εὕρητε,ἀπαγγείλατέ μοι,ὅπως κἀγὼ <span style='background-color: #FFFF00'>ἐλθὼν</span> προσκυνήσω αὐτῷ.</td></tr><tr><td width='100px'><b>MAT 2:9</b></td><td style='text-align: left !important;'>οἱ δὲ <span style='background-color: #FFFF00'>ἀκούσαντες</span> <span style='background-color: #FFFF00'>τοῦ</span> <span style='background-color: #FFFF00'>βασιλέως</span> ἐπορεύθησαν,καὶ ἰδοὺ ὁ ἀστὴρ ὃν εἶδον ἐν τῇ ἀνατολῇ προῆγεν αὐτούς,ἕως ἐλθὼν ἐστάθη ἐπάνω οὗ ἦν τὸ παιδίον.</td></tr><tr><td width='100px'><b>MAT 2:9</b></td><td style='text-align: left !important;'>οἱ δὲ ἀκούσαντες τοῦ βασιλέως ἐπορεύθησαν,καὶ ἰδοὺ ὁ ἀστὴρ ὃν εἶδον ἐν τῇ ἀνατολῇ προῆγεν αὐτούς,ἕως <span style='background-color: #FFFF00'>ἐλθὼν</span> ἐστάθη ἐπάνω οὗ ἦν τὸ παιδίον.</td></tr><tr><td width='100px'><b>MAT 2:10</b></td><td style='text-align: left !important;'><span style='background-color: #FFFF00'>ἰδόντες</span> δὲ <span style='background-color: #FFFF00'>τὸν</span> <span style='background-color: #FFFF00'>ἀστέρα</span> ἐχάρησαν χαρὰν μεγάλην σφόδρα.</td></tr><tr><td width='100px'><b>MAT 2:11</b></td><td style='text-align: left !important;'>καὶ <span style='background-color: #FFFF00'>ἐλθόντες</span> <span style='background-color: #FFFF00'>εἰς</span> <span style='background-color: #FFFF00'>τὴν</span> <span style='background-color: #FFFF00'>οἰκίαν</span> εἶδον τὸ παιδίον μετὰ Μαρίας τῆς μητρὸς αὐτοῦ,καὶ πεσόντες προσεκύνησαν αὐτῷ,καὶ ἀνοίξαντες τοὺς θησαυροὺς αὐτῶν προσήνεγκαν αὐτῷ δῶρα,χρυσὸν καὶ λίβανον καὶ σμύρναν.</td></tr><tr><td width='100px'><b>MAT 2:11</b></td><td style='text-align: left !important;'>καὶ ἐλθόντες εἰς τὴν οἰκίαν εἶδον τὸ παιδίον μετὰ Μαρίας τῆς μητρὸς αὐτοῦ,καὶ <span style='background-color: #FFFF00'>πεσόντες</span> προσεκύνησαν αὐτῷ,καὶ ἀνοίξαντες τοὺς θησαυροὺς αὐτῶν προσήνεγκαν αὐτῷ δῶρα,χρυσὸν καὶ λίβανον καὶ σμύρναν.</td></tr><tr><td width='100px'><b>MAT 2:11</b></td><td style='text-align: left !important;'>καὶ ἐλθόντες εἰς τὴν οἰκίαν εἶδον τὸ παιδίον μετὰ Μαρίας τῆς μητρὸς αὐτοῦ,καὶ πεσόντες προσεκύνησαν αὐτῷ,καὶ <span style='background-color: #FFFF00'>ἀνοίξαντες</span> <span style='background-color: #FFFF00'>τοὺς</span> <span style='background-color: #FFFF00'>θησαυροὺς</span> <span style='background-color: #FFFF00'>αὐτῶν</span> προσήνεγκαν αὐτῷ δῶρα,χρυσὸν καὶ λίβανον καὶ σμύρναν.</td></tr><tr><td width='100px'><b>MAT 2:12</b></td><td style='text-align: left !important;'>καὶ <span style='background-color: #FFFF00'>χρηματισθέντες</span> <span style='background-color: #FFFF00'>κατ’</span> <span style='background-color: #FFFF00'>ὄναρ</span> <span style='background-color: #FFFF00'>μὴ</span> <span style='background-color: #FFFF00'>ἀνακάμψαι</span> <span style='background-color: #FFFF00'>πρὸς</span> <span style='background-color: #FFFF00'>Ἡρῴδην</span> δι’ ἄλλης ὁδοῦ ἀνεχώρησαν εἰς τὴν χώραν αὐτῶν.</td></tr><tr><td width='100px'><b>MAT 2:13</b></td><td style='text-align: left !important;'>Ἀναχωρησάντων δὲ αὐτῶν ἰδοὺ ἄγγελος κυρίου φαίνεται κατ’ ὄναρ τῷ Ἰωσὴφ λέγων·<span style='background-color: #FFFF00'>Ἐγερθεὶς</span> παράλαβε τὸ παιδίον καὶ τὴν μητέρα αὐτοῦ καὶ φεῦγε εἰς Αἴγυπτον,καὶ ἴσθι ἐκεῖ ἕως ἂν εἴπω σοι·μέλλει γὰρ Ἡρῴδης ζητεῖν τὸ παιδίον τοῦ ἀπολέσαι αὐτό.</td></tr><tr><td width='100px'><b>MAT 2:14</b></td><td style='text-align: left !important;'>ὁ δὲ <span style='background-color: #FFFF00'>ἐγερθεὶς</span> παρέλαβε τὸ παιδίον καὶ τὴν μητέρα αὐτοῦ νυκτὸς καὶ ἀνεχώρησεν εἰς Αἴγυπτον,</td></tr><tr><td width='100px'><b>MAT 2:16</b></td><td style='text-align: left !important;'>Τότε Ἡρῴδης <span style='background-color: #FFFF00'>ἰδὼν</span> <span style='background-color: #FFFF00'>ὅτι</span> <span style='background-color: #FFFF00'>ἐνεπαίχθη</span> <span style='background-color: #FFFF00'>ὑπὸ</span> <span style='background-color: #FFFF00'>τῶν</span> <span style='background-color: #FFFF00'>μάγων</span> ἐθυμώθη λίαν,καὶ ἀποστείλας ἀνεῖλεν πάντας τοὺς παῖδας τοὺς ἐν Βηθλέεμ καὶ ἐν πᾶσι τοῖς ὁρίοις αὐτῆς ἀπὸ διετοῦς καὶ κατωτέρω,κατὰ τὸν χρόνον ὃν ἠκρίβωσεν παρὰ τῶν μάγων.</td></tr><tr><td width='100px'><b>MAT 2:16</b></td><td style='text-align: left !important;'>Τότε Ἡρῴδης ἰδὼν ὅτι ἐνεπαίχθη ὑπὸ τῶν μάγων ἐθυμώθη λίαν,καὶ <span style='background-color: #FFFF00'>ἀποστείλας</span> ἀνεῖλεν πάντας τοὺς παῖδας τοὺς ἐν Βηθλέεμ καὶ ἐν πᾶσι τοῖς ὁρίοις αὐτῆς ἀπὸ διετοῦς καὶ κατωτέρω,κατὰ τὸν χρόνον ὃν ἠκρίβωσεν παρὰ τῶν μάγων.</td></tr><tr><td width='100px'><b>MAT 2:20</b></td><td style='text-align: left !important;'>λέγων·<span style='background-color: #FFFF00'>Ἐγερθεὶς</span> παράλαβε τὸ παιδίον καὶ τὴν μητέρα αὐτοῦ καὶ πορεύου εἰς γῆν Ἰσραήλ,τεθνήκασιν γὰρ οἱ ζητοῦντες τὴν ψυχὴν τοῦ παιδίου.</td></tr><tr><td width='100px'><b>MAT 2:21</b></td><td style='text-align: left !important;'>ὁ δὲ <span style='background-color: #FFFF00'>ἐγερθεὶς</span> παρέλαβε τὸ παιδίον καὶ τὴν μητέρα αὐτοῦ καὶ εἰσῆλθεν εἰς γῆν Ἰσραήλ.</td></tr><tr><td width='100px'><b>MAT 2:22</b></td><td style='text-align: left !important;'><span style='background-color: #FFFF00'>ἀκούσας</span> δὲ <span style='background-color: #FFFF00'>ὅτι</span> <span style='background-color: #FFFF00'>Ἀρχέλαος</span> <span style='background-color: #FFFF00'>βασιλεύει</span> <span style='background-color: #FFFF00'>τῆς</span> <span style='background-color: #FFFF00'>Ἰουδαίας</span> <span style='background-color: #FFFF00'>ἀντὶ</span> <span style='background-color: #FFFF00'>τοῦ</span> <span style='background-color: #FFFF00'>πατρὸς</span> <span style='background-color: #FFFF00'>αὐτοῦ</span> <span style='background-color: #FFFF00'>Ἡρῴδου</span> ἐφοβήθη ἐκεῖ ἀπελθεῖν·χρηματισθεὶς δὲ κατ’ ὄναρ ἀνεχώρησεν εἰς τὰ μέρη τῆς Γαλιλαίας,</td></tr><tr><td width='100px'><b>MAT 2:22</b></td><td style='text-align: left !important;'>ἀκούσας δὲ ὅτι Ἀρχέλαος βασιλεύει τῆς Ἰουδαίας ἀντὶ τοῦ πατρὸς αὐτοῦ Ἡρῴδου ἐφοβήθη ἐκεῖ ἀπελθεῖν·<span style='background-color: #FFFF00'>χρηματισθεὶς</span> δὲ <span style='background-color: #FFFF00'>κατ’</span> <span style='background-color: #FFFF00'>ὄναρ</span> ἀνεχώρησεν εἰς τὰ μέρη τῆς Γαλιλαίας,</td></tr><tr><td width='100px'><b>MAT 2:23</b></td><td style='text-align: left !important;'>καὶ <span style='background-color: #FFFF00'>ἐλθὼν</span> κατῴκησεν εἰς πόλιν λεγομένην Ναζαρέτ,ὅπως πληρωθῇ τὸ ῥηθὲν διὰ τῶν προφητῶν ὅτι Ναζωραῖος κληθήσεται.</td></tr><tr><td width='100px'><b>MAT 3:7</b></td><td style='text-align: left !important;'><span style='background-color: #FFFF00'>Ἰδὼν</span> δὲ <span style='background-color: #FFFF00'>πολλοὺς</span> <span style='background-color: #FFFF00'>τῶν</span> <span style='background-color: #FFFF00'>Φαρισαίων</span> <span style='background-color: #FFFF00'>καὶ</span> <span style='background-color: #FFFF00'>Σαδδουκαίων</span> <span style='background-color: #FFFF00'>ἐρχομένους</span> <span style='background-color: #FFFF00'>ἐπὶ</span> <span style='background-color: #FFFF00'>τὸ</span> <span style='background-color: #FFFF00'>βάπτισμα</span> <span style='background-color: #FFFF00'>αὐτοῦ</span> εἶπεν αὐτοῖς·Γεννήματα ἐχιδνῶν,τίς ὑπέδειξεν ὑμῖν φυγεῖν ἀπὸ τῆς μελλούσης ὀργῆς;</td></tr><tr><td width='100px'><b>MAT 3:15</b></td><td style='text-align: left !important;'><span style='background-color: #FFFF00'>ἀποκριθεὶς</span> δὲ ὁ Ἰησοῦς εἶπεν πρὸς αὐτόν·Ἄφες ἄρτι,οὕτως γὰρ πρέπον ἐστὶν ἡμῖν πληρῶσαι πᾶσαν δικαιοσύνην.τότε ἀφίησιν αὐτόν.</td></tr><tr><td width='100px'><b>MAT 3:16</b></td><td style='text-align: left !important;'><span style='background-color: #FFFF00'>βαπτισθεὶς</span> δὲ ὁ Ἰησοῦς εὐθὺς ἀνέβη ἀπὸ τοῦ ὕδατος·καὶ ἰδοὺ ἠνεῴχθησαν οἱ οὐρανοί,καὶ εἶδεν πνεῦμα θεοῦ καταβαῖνον ὡσεὶ περιστερὰν ἐρχόμενον ἐπ’ αὐτόν·</td></tr><tr><td width='100px'><b>MAT 4:2</b></td><td style='text-align: left !important;'>καὶ <span style='background-color: #FFFF00'>νηστεύσας</span> <span style='background-color: #FFFF00'>ἡμέρας</span> <span style='background-color: #FFFF00'>τεσσεράκοντα</span> <span style='background-color: #FFFF00'>καὶ</span> <span style='background-color: #FFFF00'>νύκτας</span> <span style='background-color: #FFFF00'>τεσσεράκοντα</span> ὕστερον ἐπείνασεν.</td></tr><tr><td width='100px'><b>MAT 4:3</b></td><td style='text-align: left !important;'>καὶ <span style='background-color: #FFFF00'>προσελθὼν</span> ὁ πειράζων εἶπεν αὐτῷ·Εἰ υἱὸς εἶ τοῦ θεοῦ,εἰπὲ ἵνα οἱ λίθοι οὗτοι ἄρτοι γένωνται.</td></tr><tr><td width='100px'><b>MAT 4:4</b></td><td style='text-align: left !important;'>ὁ δὲ <span style='background-color: #FFFF00'>ἀποκριθεὶς</span> εἶπεν·Γέγραπται·Οὐκ ἐπ’ ἄρτῳ μόνῳ ζήσεται ὁ ἄνθρωπος,ἀλλ’ ἐπὶ παντὶ ῥήματι ἐκπορευομένῳ διὰ στόματος θεοῦ.</td></tr><tr><td width='100px'><b>MAT 4:9</b></td><td style='text-align: left !important;'>καὶ εἶπεν αὐτῷ·Ταῦτά σοι πάντα δώσω,ἐὰν <span style='background-color: #FFFF00'>πεσὼν</span> προσκυνήσῃς μοι.</td></tr><tr><td width='100px'><b>MAT 4:12</b></td><td style='text-align: left !important;'><span style='background-color: #FFFF00'>Ἀκούσας</span> δὲ <span style='background-color: #FFFF00'>ὅτι</span> <span style='background-color: #FFFF00'>Ἰωάννης</span> <span style='background-color: #FFFF00'>παρεδόθη</span> ἀνεχώρησεν εἰς τὴν Γαλιλαίαν.</td></tr><tr><td width='100px'><b>MAT 4:13</b></td><td style='text-align: left !important;'>καὶ καταλιπὼν τὴν Ναζαρὰ <span style='background-color: #FFFF00'>ἐλθὼν</span> κατῴκησεν εἰς Καφαρναοὺμ τὴν παραθαλασσίαν ἐν ὁρίοις Ζαβουλὼν καὶ Νεφθαλίμ·</td></tr><tr><td width='100px'><b>MAT 4:13</b></td><td style='text-align: left !important;'>καὶ <span style='background-color: #FFFF00'>καταλιπὼν</span> <span style='background-color: #FFFF00'>τὴν</span> <span style='background-color: #FFFF00'>Ναζαρὰ</span> ἐλθὼν κατῴκησεν εἰς Καφαρναοὺμ τὴν παραθαλασσίαν ἐν ὁρίοις Ζαβουλὼν καὶ Νεφθαλίμ·</td></tr><tr><td width='100px'><b>MAT 4:18</b></td><td style='text-align: left !important;'><span style='background-color: #FFFF00'>Περιπατῶν</span> δὲ <span style='background-color: #FFFF00'>παρὰ</span> <span style='background-color: #FFFF00'>τὴν</span> <span style='background-color: #FFFF00'>θάλασσαν</span> <span style='background-color: #FFFF00'>τῆς</span> <span style='background-color: #FFFF00'>Γαλιλαίας</span> εἶδεν δύο ἀδελφούς,Σίμωνα τὸν λεγόμενον Πέτρον καὶ Ἀνδρέαν τὸν ἀδελφὸν αὐτοῦ,βάλλοντας ἀμφίβληστρον εἰς τὴν θάλασσαν,ἦσαν γὰρ ἁλιεῖς·</td></tr><tr><td width='100px'><b>MAT 4:20</b></td><td style='text-align: left !important;'>οἱ δὲ εὐθέως <span style='background-color: #FFFF00'>ἀφέντες</span> <span style='background-color: #FFFF00'>τὰ</span> <span style='background-color: #FFFF00'>δίκτυα</span> ἠκολούθησαν αὐτῷ.</td></tr><tr><td width='100px'><b>MAT 4:21</b></td><td style='text-align: left !important;'>Καὶ <span style='background-color: #FFFF00'>προβὰς</span> <span style='background-color: #FFFF00'>ἐκεῖθεν</span> εἶδεν ἄλλους δύο ἀδελφούς,Ἰάκωβον τὸν τοῦ Ζεβεδαίου καὶ Ἰωάννην τὸν ἀδελφὸν αὐτοῦ,ἐν τῷ πλοίῳ μετὰ Ζεβεδαίου τοῦ πατρὸς αὐτῶν καταρτίζοντας τὰ δίκτυα αὐτῶν,καὶ ἐκάλεσεν αὐτούς.</td></tr><tr><td width='100px'><b>MAT 4:22</b></td><td style='text-align: left !important;'>οἱ δὲ εὐθέως <span style='background-color: #FFFF00'>ἀφέντες</span> <span style='background-color: #FFFF00'>τὸ</span> <span style='background-color: #FFFF00'>πλοῖον</span> <span style='background-color: #FFFF00'>καὶ</span> <span style='background-color: #FFFF00'>τὸν</span> <span style='background-color: #FFFF00'>πατέρα</span> <span style='background-color: #FFFF00'>αὐτῶν</span> ἠκολούθησαν αὐτῷ.</td></tr><tr><td width='100px'><b>MAT 5:1</b></td><td style='text-align: left !important;'><span style='background-color: #FFFF00'>Ἰδὼν</span> δὲ <span style='background-color: #FFFF00'>τοὺς</span> <span style='background-color: #FFFF00'>ὄχλους</span> ἀνέβη εἰς τὸ ὄρος·καὶ καθίσαντος αὐτοῦ προσῆλθαν αὐτῷ οἱ μαθηταὶ αὐτοῦ·</td></tr><tr><td width='100px'><b>MAT 5:2</b></td><td style='text-align: left !important;'>καὶ <span style='background-color: #FFFF00'>ἀνοίξας</span> <span style='background-color: #FFFF00'>τὸ</span> <span style='background-color: #FFFF00'>στόμα</span> <span style='background-color: #FFFF00'>αὐτοῦ</span> ἐδίδασκεν αὐτοὺς λέγων·</td></tr><tr><td width='100px'><b>MAT 5:13</b></td><td style='text-align: left !important;'>Ὑμεῖς ἐστε τὸ ἅλας τῆς γῆς·ἐὰν δὲ τὸ ἅλας μωρανθῇ,ἐν τίνι ἁλισθήσεται;εἰς οὐδὲν ἰσχύει ἔτι εἰ μὴ <span style='background-color: #FFFF00'>βληθὲν</span> <span style='background-color: #FFFF00'>ἔξω</span> καταπατεῖσθαι ὑπὸ τῶν ἀνθρώπων.</td></tr><tr><td width='100px'><b>MAT 5:24</b></td><td style='text-align: left !important;'>ἄφες ἐκεῖ τὸ δῶρόν σου ἔμπροσθεν τοῦ θυσιαστηρίου καὶ ὕπαγε πρῶτον διαλλάγηθι τῷ ἀδελφῷ σου,καὶ τότε <span style='background-color: #FFFF00'>ἐλθὼν</span> πρόσφερε τὸ δῶρόν σου.</td></tr><tr><td width='100px'><b>MAT 5:46</b></td><td style='text-align: left !important;'><span style='background-color: #FFFF00'>ἐὰν</span> γὰρ <span style='background-color: #FFFF00'>ἀγαπήσητε</span> <span style='background-color: #FFFF00'>τοὺς</span> <span style='background-color: #FFFF00'>ἀγαπῶντας</span> <span style='background-color: #FFFF00'>ὑμᾶς</span>,τίνα μισθὸν ἔχετε;οὐχὶ καὶ οἱ τελῶναι τὸ αὐτὸ ποιοῦσιν;</td></tr><tr><td width='100px'><b>MAT 6:5</b></td><td style='text-align: left !important;'>Καὶ ὅταν προσεύχησθε,οὐκἔσεσθε ὡς οἱ ὑποκριταί·ὅτι φιλοῦσιν <span style='background-color: #FFFF00'>ἐν</span> <span style='background-color: #FFFF00'>ταῖς</span> <span style='background-color: #FFFF00'>συναγωγαῖς</span> <span style='background-color: #FFFF00'>καὶ</span> <span style='background-color: #FFFF00'>ἐν</span> <span style='background-color: #FFFF00'>ταῖς</span> <span style='background-color: #FFFF00'>γωνίαις</span> <span style='background-color: #FFFF00'>τῶν</span> <span style='background-color: #FFFF00'>πλατειῶν</span> <span style='background-color: #FFFF00'>ἑστῶτες</span> προσεύχεσθαι,ὅπως φανῶσιν τοῖς ἀνθρώποις·ἀμὴν λέγω ὑμῖν,ἀπέχουσι τὸν μισθὸν αὐτῶν.</td></tr><tr><td width='100px'><b>MAT 6:6</b></td><td style='text-align: left !important;'>σὺ δὲ ὅταν προσεύχῃ,εἴσελθε εἰς τὸ ταμεῖόν σου καὶ <span style='background-color: #FFFF00'>κλείσας</span> <span style='background-color: #FFFF00'>τὴν</span> <span style='background-color: #FFFF00'>θύραν</span> <span style='background-color: #FFFF00'>σου</span> πρόσευξαι τῷ πατρί σου τῷ ἐν τῷ κρυπτῷ·καὶ ὁ πατήρ σου ὁ βλέπων ἐν τῷ κρυπτῷ ἀποδώσει σοι.</td></tr><tr><td width='100px'><b>MAT 6:7</b></td><td style='text-align: left !important;'><span style='background-color: #FFFF00'>Προσευχόμενοι</span> δὲ μὴ βατταλογήσητε ὥσπερ οἱ ἐθνικοί,δοκοῦσιν γὰρ ὅτι ἐν τῇ πολυλογίᾳ αὐτῶν εἰσακουσθήσονται·</td></tr><tr><td width='100px'><b>MAT 6:17</b></td><td style='text-align: left !important;'>σὺ δὲ <span style='background-color: #FFFF00'>νηστεύων</span> ἄλειψαί σου τὴν κεφαλὴν καὶ τὸ πρόσωπόν σου νίψαι,</td></tr><tr><td width='100px'><b>MAT 6:27</b></td><td style='text-align: left !important;'>τίς δὲ ἐξ ὑμῶν <span style='background-color: #FFFF00'>μεριμνῶν</span> δύναται προσθεῖναι ἐπὶ τὴν ἡλικίαν αὐτοῦ πῆχυν ἕνα;</td></tr><tr><td width='100px'><b>MAT 6:30</b></td><td style='text-align: left !important;'>εἰ δὲ τὸν χόρτον τοῦ ἀγροῦ <span style='background-color: #FFFF00'>σήμερον</span> <span style='background-color: #FFFF00'>ὄντα</span> <span style='background-color: #FFFF00'>καὶ</span> <span style='background-color: #FFFF00'>αὔριον</span> <span style='background-color: #FFFF00'>εἰς</span> <span style='background-color: #FFFF00'>κλίβανον</span> <span style='background-color: #FFFF00'>βαλλόμενον</span> ὁ θεὸς οὕτως ἀμφιέννυσιν,οὐ πολλῷ μᾶλλον ὑμᾶς,ὀλιγόπιστοι;</td></tr><tr><td width='100px'><b>MAT 7:6</b></td><td style='text-align: left !important;'>Μὴ δῶτε τὸ ἅγιον τοῖς κυσίν,μηδὲ βάλητε τοὺς μαργαρίτας ὑμῶν ἔμπροσθεν τῶν χοίρων,μήποτε καταπατήσουσιν αὐτοὺς ἐν τοῖς ποσὶν αὐτῶν καὶ <span style='background-color: #FFFF00'>στραφέντες</span> ῥήξωσιν ὑμᾶς.</td></tr><tr><td width='100px'><b>MAT 7:11</b></td><td style='text-align: left !important;'>εἰ οὖν ὑμεῖς <span style='background-color: #FFFF00'>πονηροὶ</span> <span style='background-color: #FFFF00'>ὄντες</span> οἴδατε δόματα ἀγαθὰ διδόναι τοῖς τέκνοις ὑμῶν,πόσῳ μᾶλλον ὁ πατὴρ ὑμῶν ὁ ἐν τοῖς οὐρανοῖς δώσει ἀγαθὰ τοῖς αἰτοῦσιν αὐτόν.</td></tr><tr><td width='100px'><b>MAT 7:11</b></td><td style='text-align: left !important;'><span style='background-color: #FFFF00'>εἰ</span> οὖν <span style='background-color: #FFFF00'>ὑμεῖς</span> <span style='background-color: #FFFF00'>πονηροὶ</span> <span style='background-color: #FFFF00'>ὄντες</span> <span style='background-color: #FFFF00'>οἴδατε</span> <span style='background-color: #FFFF00'>δόματα</span> <span style='background-color: #FFFF00'>ἀγαθὰ</span> <span style='background-color: #FFFF00'>διδόναι</span> <span style='background-color: #FFFF00'>τοῖς</span> <span style='background-color: #FFFF00'>τέκνοις</span> <span style='background-color: #FFFF00'>ὑμῶν</span>,πόσῳ μᾶλλον ὁ πατὴρ ὑμῶν ὁ ἐν τοῖς οὐρανοῖς δώσει ἀγαθὰ τοῖς αἰτοῦσιν αὐτόν.</td></tr><tr><td width='100px'><b>MAT 8:2</b></td><td style='text-align: left !important;'>καὶ ἰδοὺ λεπρὸς <span style='background-color: #FFFF00'>προσελθὼν</span> προσεκύνει αὐτῷ λέγων·Κύριε,ἐὰν θέλῃς δύνασαί με καθαρίσαι.</td></tr><tr><td width='100px'><b>MAT 8:3</b></td><td style='text-align: left !important;'>καὶ <span style='background-color: #FFFF00'>ἐκτείνας</span> <span style='background-color: #FFFF00'>τὴν</span> <span style='background-color: #FFFF00'>χεῖρα</span> ἥψατο αὐτοῦ λέγων·Θέλω,καθαρίσθητι·καὶ εὐθέως ἐκαθαρίσθη αὐτοῦ ἡ λέπρα.</td></tr><tr><td width='100px'><b>MAT 8:7</b></td><td style='text-align: left !important;'>καὶ λέγει αὐτῷ·Ἐγὼ <span style='background-color: #FFFF00'>ἐλθὼν</span> θεραπεύσω αὐτόν.</td></tr><tr><td width='100px'><b>MAT 8:8</b></td><td style='text-align: left !important;'>καὶ <span style='background-color: #FFFF00'>ἀποκριθεὶς</span> ὁ ἑκατόνταρχος ἔφη·Κύριε,οὐκεἰμὶ ἱκανὸς ἵνα μου ὑπὸ τὴν στέγην εἰσέλθῃς·ἀλλὰ μόνον εἰπὲ λόγῳ,καὶ ἰαθήσεται ὁ παῖς μου·</td></tr><tr><td width='100px'><b>MAT 8:10</b></td><td style='text-align: left !important;'><span style='background-color: #FFFF00'>ἀκούσας</span> δὲ ὁ Ἰησοῦς ἐθαύμασεν καὶ εἶπεν τοῖς ἀκολουθοῦσιν·Ἀμὴν λέγω ὑμῖν,παρ’ οὐδενὶ τοσαύτην πίστιν ἐν τῷ Ἰσραὴλ εὗρον.</td></tr><tr><td width='100px'><b>MAT 8:14</b></td><td style='text-align: left !important;'>Καὶ <span style='background-color: #FFFF00'>ἐλθὼν</span> ὁ Ἰησοῦς <span style='background-color: #FFFF00'>εἰς</span> <span style='background-color: #FFFF00'>τὴν</span> <span style='background-color: #FFFF00'>οἰκίαν</span> <span style='background-color: #FFFF00'>Πέτρου</span> εἶδεν τὴν πενθερὰν αὐτοῦ βεβλημένην καὶ πυρέσσουσαν·</td></tr><tr><td width='100px'><b>MAT 8:18</b></td><td style='text-align: left !important;'><span style='background-color: #FFFF00'>Ἰδὼν</span> δὲ ὁ Ἰησοῦς <span style='background-color: #FFFF00'>πολλοὺς</span> <span style='background-color: #FFFF00'>ὄχλους</span> <span style='background-color: #FFFF00'>περὶ</span> <span style='background-color: #FFFF00'>αὐτὸν</span> ἐκέλευσεν ἀπελθεῖν εἰς τὸ πέραν.</td></tr><tr><td width='100px'><b>MAT 8:19</b></td><td style='text-align: left !important;'>καὶ <span style='background-color: #FFFF00'>προσελθὼν</span> εἷς γραμματεὺς εἶπεν αὐτῷ·Διδάσκαλε,ἀκολουθήσω σοι ὅπου ἐὰν ἀπέρχῃ.</td></tr><tr><td width='100px'><b>MAT 8:25</b></td><td style='text-align: left !important;'>καὶ <span style='background-color: #FFFF00'>προσελθόντες</span> ἤγειραν αὐτὸν λέγοντες·Κύριε,σῶσον,ἀπολλύμεθα.</td></tr><tr><td width='100px'><b>MAT 8:26</b></td><td style='text-align: left !important;'>καὶ λέγει αὐτοῖς·Τί δειλοί ἐστε,ὀλιγόπιστοι;τότε <span style='background-color: #FFFF00'>ἐγερθεὶς</span> ἐπετίμησεν τοῖς ἀνέμοις καὶ τῇ θαλάσσῃ,καὶ ἐγένετο γαλήνη μεγάλη.</td></tr><tr><td width='100px'><b>MAT 8:32</b></td><td style='text-align: left !important;'>καὶ εἶπεν αὐτοῖς·Ὑπάγετε.οἱ δὲ <span style='background-color: #FFFF00'>ἐξελθόντες</span> ἀπῆλθον εἰς τοὺς χοίρους·καὶ ἰδοὺ ὥρμησεν πᾶσα ἡ ἀγέλη κατὰ τοῦ κρημνοῦ εἰς τὴν θάλασσαν,καὶ ἀπέθανον ἐν τοῖς ὕδασιν.</td></tr><tr><td width='100px'><b>MAT 8:33</b></td><td style='text-align: left !important;'>οἱ δὲ βόσκοντες ἔφυγον,καὶ <span style='background-color: #FFFF00'>ἀπελθόντες</span> <span style='background-color: #FFFF00'>εἰς</span> <span style='background-color: #FFFF00'>τὴν</span> <span style='background-color: #FFFF00'>πόλιν</span> ἀπήγγειλαν πάντα καὶ τὰ τῶν δαιμονιζομένων.</td></tr><tr><td width='100px'><b>MAT 8:34</b></td><td style='text-align: left !important;'>καὶ ἰδοὺ πᾶσα ἡ πόλις ἐξῆλθεν εἰς ὑπάντησιν τῷ Ἰησοῦ,καὶ <span style='background-color: #FFFF00'>ἰδόντες</span> αὐτὸν παρεκάλεσαν ὅπως μεταβῇ ἀπὸ τῶν ὁρίων αὐτῶν.</td></tr><tr><td width='100px'><b>MAT 9:1</b></td><td style='text-align: left !important;'>Καὶ <span style='background-color: #FFFF00'>ἐμβὰς</span> <span style='background-color: #FFFF00'>εἰς</span> <span style='background-color: #FFFF00'>πλοῖον</span> διεπέρασεν καὶ ἦλθεν εἰς τὴν ἰδίαν πόλιν.</td></tr><tr><td width='100px'><b>MAT 9:2</b></td><td style='text-align: left !important;'>Καὶ ἰδοὺ προσέφερον αὐτῷ παραλυτικὸν ἐπὶ κλίνης βεβλημένον.καὶ <span style='background-color: #FFFF00'>ἰδὼν</span> ὁ Ἰησοῦς <span style='background-color: #FFFF00'>τὴν</span> <span style='background-color: #FFFF00'>πίστιν</span> <span style='background-color: #FFFF00'>αὐτῶν</span> εἶπεν τῷ παραλυτικῷ·Θάρσει,τέκνον·ἀφίενταί σου αἱ ἁμαρτίαι.</td></tr><tr><td width='100px'><b>MAT 9:4</b></td><td style='text-align: left !important;'>καὶ <span style='background-color: #FFFF00'>εἰδὼς</span> ὁ Ἰησοῦς <span style='background-color: #FFFF00'>τὰς</span> <span style='background-color: #FFFF00'>ἐνθυμήσεις</span> <span style='background-color: #FFFF00'>αὐτῶν</span> εἶπεν·Ἱνατί ἐνθυμεῖσθε πονηρὰ ἐν ταῖς καρδίαις ὑμῶν;</td></tr><tr><td width='100px'><b>MAT 9:6</b></td><td style='text-align: left !important;'>ἵνα δὲ εἰδῆτε ὅτι ἐξουσίαν ἔχει ὁ υἱὸς τοῦ ἀνθρώπου ἐπὶ τῆς γῆς ἀφιέναι ἁμαρτίας τότε λέγει τῷ παραλυτικῷ·<span style='background-color: #FFFF00'>Ἐγερθεὶς</span> ἆρόν σου τὴν κλίνην καὶ ὕπαγε εἰς τὸν οἶκόν σου.</td></tr><tr><td width='100px'><b>MAT 9:7</b></td><td style='text-align: left !important;'>καὶ <span style='background-color: #FFFF00'>ἐγερθεὶς</span> ἀπῆλθεν εἰς τὸν οἶκον αὐτοῦ.</td></tr><tr><td width='100px'><b>MAT 9:8</b></td><td style='text-align: left !important;'><span style='background-color: #FFFF00'>ἰδόντες</span> δὲ οἱ ὄχλοι ἐφοβήθησαν καὶ ἐδόξασαν τὸν θεὸν τὸν δόντα ἐξουσίαν τοιαύτην τοῖς ἀνθρώποις.</td></tr><tr><td width='100px'><b>MAT 9:9</b></td><td style='text-align: left !important;'>Καὶ <span style='background-color: #FFFF00'>παράγων</span> ὁ Ἰησοῦς <span style='background-color: #FFFF00'>ἐκεῖθεν</span> εἶδεν ἄνθρωπον καθήμενον ἐπὶ τὸ τελώνιον,Μαθθαῖον λεγόμενον,καὶ λέγει αὐτῷ·Ἀκολούθει μοι·καὶ ἀναστὰς ἠκολούθησεν αὐτῷ.</td></tr><tr><td width='100px'><b>MAT 9:9</b></td><td style='text-align: left !important;'>Καὶ παράγων ὁ Ἰησοῦς ἐκεῖθεν εἶδεν ἄνθρωπον καθήμενον ἐπὶ τὸ τελώνιον,Μαθθαῖον λεγόμενον,καὶ λέγει αὐτῷ·Ἀκολούθει μοι·καὶ <span style='background-color: #FFFF00'>ἀναστὰς</span> ἠκολούθησεν αὐτῷ.</td></tr><tr><td width='100px'><b>MAT 9:10</b></td><td style='text-align: left !important;'>Καὶ ἐγένετο αὐτοῦ ἀνακειμένου ἐν τῇ οἰκίᾳ,καὶ ἰδοὺ πολλοὶ τελῶναι καὶ ἁμαρτωλοὶ <span style='background-color: #FFFF00'>ἐλθόντες</span> συνανέκειντο τῷ Ἰησοῦ καὶ τοῖς μαθηταῖς αὐτοῦ.</td></tr><tr><td width='100px'><b>MAT 9:11</b></td><td style='text-align: left !important;'>καὶ <span style='background-color: #FFFF00'>ἰδόντες</span> οἱ Φαρισαῖοι ἔλεγον τοῖς μαθηταῖς αὐτοῦ·Διὰ τί μετὰ τῶν τελωνῶν καὶ ἁμαρτωλῶν ἐσθίει ὁ διδάσκαλος ὑμῶν;</td></tr><tr><td width='100px'><b>MAT 9:12</b></td><td style='text-align: left !important;'>ὁ δὲ <span style='background-color: #FFFF00'>ἀκούσας</span> εἶπεν·Οὐ χρείαν ἔχουσιν οἱ ἰσχύοντες ἰατροῦ ἀλλὰ οἱ κακῶς ἔχοντες.</td></tr><tr><td width='100px'><b>MAT 9:13</b></td><td style='text-align: left !important;'><span style='background-color: #FFFF00'>πορευθέντες</span> δὲ μάθετε τί ἐστιν·Ἔλεος θέλω καὶ οὐ θυσίαν·οὐ γὰρ ἦλθον καλέσαι δικαίους ἀλλὰ ἁμαρτωλούς.</td></tr><tr><td width='100px'><b>MAT 9:18</b></td><td style='text-align: left !important;'>Ταῦτα αὐτοῦ λαλοῦντος αὐτοῖς ἰδοὺ ἄρχων εἷς <span style='background-color: #FFFF00'>ἐλθὼν</span> προσεκύνει αὐτῷ λέγων ὅτι Ἡ θυγάτηρ μου ἄρτι ἐτελεύτησεν·ἀλλὰ ἐλθὼν ἐπίθες τὴν χεῖρά σου ἐπ’ αὐτήν,καὶ ζήσεται.</td></tr><tr><td width='100px'><b>MAT 9:18</b></td><td style='text-align: left !important;'>Ταῦτα αὐτοῦ λαλοῦντος αὐτοῖς ἰδοὺ ἄρχων εἷς ἐλθὼν προσεκύνει αὐτῷ λέγων ὅτι Ἡ θυγάτηρ μου ἄρτι ἐτελεύτησεν·ἀλλὰ <span style='background-color: #FFFF00'>ἐλθὼν</span> ἐπίθες τὴν χεῖρά σου ἐπ’ αὐτήν,καὶ ζήσεται.</td></tr><tr><td width='100px'><b>MAT 9:19</b></td><td style='text-align: left !important;'>καὶ <span style='background-color: #FFFF00'>ἐγερθεὶς</span> ὁ Ἰησοῦς ἠκολούθει αὐτῷ καὶ οἱ μαθηταὶ αὐτοῦ.</td></tr><tr><td width='100px'><b>MAT 9:20</b></td><td style='text-align: left !important;'>Καὶ ἰδοὺ γυνὴ αἱμορροοῦσα δώδεκα ἔτη <span style='background-color: #FFFF00'>προσελθοῦσα</span> <span style='background-color: #FFFF00'>ὄπισθεν</span> ἥψατο τοῦ κρασπέδου τοῦ ἱματίου αὐτοῦ·</td></tr><tr><td width='100px'><b>MAT 9:22</b></td><td style='text-align: left !important;'>ὁ δὲ Ἰησοῦς <span style='background-color: #FFFF00'>στραφεὶς</span> <span style='background-color: #FFFF00'>καὶ</span> <span style='background-color: #FFFF00'>ἰδὼν</span> <span style='background-color: #FFFF00'>αὐτὴν</span> εἶπεν·Θάρσει,θύγατερ·ἡ πίστις σου σέσωκέν σε.καὶ ἐσώθη ἡ γυνὴ ἀπὸ τῆς ὥρας ἐκείνης.</td></tr><tr><td width='100px'><b>MAT 9:23</b></td><td style='text-align: left !important;'>καὶ <span style='background-color: #FFFF00'>ἐλθὼν</span> ὁ Ἰησοῦς <span style='background-color: #FFFF00'>εἰς</span> <span style='background-color: #FFFF00'>τὴν</span> <span style='background-color: #FFFF00'>οἰκίαν</span> <span style='background-color: #FFFF00'>τοῦ</span> <span style='background-color: #FFFF00'>ἄρχοντος</span> <span style='background-color: #FFFF00'>καὶ</span> <span style='background-color: #FFFF00'>ἰδὼν</span> <span style='background-color: #FFFF00'>τοὺς</span> <span style='background-color: #FFFF00'>αὐλητὰς</span> <span style='background-color: #FFFF00'>καὶ</span> <span style='background-color: #FFFF00'>τὸν</span> <span style='background-color: #FFFF00'>ὄχλον</span> <span style='background-color: #FFFF00'>θορυβούμενον</span> </td></tr><tr><td width='100px'><b>MAT 9:25</b></td><td style='text-align: left !important;'>ὅτε δὲ ἐξεβλήθη ὁ ὄχλος,<span style='background-color: #FFFF00'>εἰσελθὼν</span> ἐκράτησεν τῆς χειρὸς αὐτῆς,καὶ ἠγέρθη τὸ κοράσιον.</td></tr><tr><td width='100px'><b>MAT 9:31</b></td><td style='text-align: left !important;'>οἱ δὲ <span style='background-color: #FFFF00'>ἐξελθόντες</span> διεφήμισαν αὐτὸν ἐν ὅλῃ τῇ γῇ ἐκείνῃ.</td></tr><tr><td width='100px'><b>MAT 9:36</b></td><td style='text-align: left !important;'><span style='background-color: #FFFF00'>Ἰδὼν</span> δὲ <span style='background-color: #FFFF00'>τοὺς</span> <span style='background-color: #FFFF00'>ὄχλους</span> ἐσπλαγχνίσθη περὶ αὐτῶν ὅτι ἦσαν ἐσκυλμένοι καὶ ἐρριμμένοι ὡσεὶ πρόβατα μὴ ἔχοντα ποιμένα.</td></tr><tr><td width='100px'><b>MAT 10:1</b></td><td style='text-align: left !important;'>Καὶ <span style='background-color: #FFFF00'>προσκαλεσάμενος</span> <span style='background-color: #FFFF00'>τοὺς</span> <span style='background-color: #FFFF00'>δώδεκα</span> <span style='background-color: #FFFF00'>μαθητὰς</span> <span style='background-color: #FFFF00'>αὐτοῦ</span> ἔδωκεν αὐτοῖς ἐξουσίαν πνευμάτων ἀκαθάρτων ὥστε ἐκβάλλειν αὐτὰ καὶ θεραπεύειν πᾶσαν νόσον καὶ πᾶσαν μαλακίαν.</td></tr><tr><td width='100px'><b>MAT 10:7</b></td><td style='text-align: left !important;'><span style='background-color: #FFFF00'>πορευόμενοι</span> δὲ κηρύσσετε λέγοντες ὅτι Ἤγγικεν ἡ βασιλεία τῶν οὐρανῶν.</td></tr><tr><td width='100px'><b>MAT 10:12</b></td><td style='text-align: left !important;'><span style='background-color: #FFFF00'>εἰσερχόμενοι</span> δὲ <span style='background-color: #FFFF00'>εἰς</span> <span style='background-color: #FFFF00'>τὴν</span> <span style='background-color: #FFFF00'>οἰκίαν</span> ἀσπάσασθε αὐτήν·</td></tr><tr><td width='100px'><b>MAT 10:14</b></td><td style='text-align: left !important;'>καὶ ὃς ἂν μὴ δέξηται ὑμᾶς μηδὲ ἀκούσῃ τοὺς λόγους ὑμῶν,<span style='background-color: #FFFF00'>ἐξερχόμενοι</span> <span style='background-color: #FFFF00'>ἔξω</span> <span style='background-color: #FFFF00'>τῆς</span> <span style='background-color: #FFFF00'>οἰκίας</span> <span style='background-color: #FFFF00'>ἢ</span> <span style='background-color: #FFFF00'>τῆς</span> <span style='background-color: #FFFF00'>πόλεως</span> <span style='background-color: #FFFF00'>ἐκείνης</span> ἐκτινάξατε τὸν κονιορτὸν τῶν ποδῶν ὑμῶν.</td></tr><tr><td width='100px'><b>MAT 11:1</b></td><td style='text-align: left !important;'>Καὶ ἐγένετο <span style='background-color: #FFFF00'>ὅτε</span> <span style='background-color: #FFFF00'>ἐτέλεσεν</span> <span style='background-color: #FFFF00'>ὁ</span> <span style='background-color: #FFFF00'>Ἰησοῦς</span> <span style='background-color: #FFFF00'>διατάσσων</span> <span style='background-color: #FFFF00'>τοῖς</span> <span style='background-color: #FFFF00'>δώδεκα</span> <span style='background-color: #FFFF00'>μαθηταῖς</span> <span style='background-color: #FFFF00'>αὐτοῦ</span>,μετέβη ἐκεῖθεν τοῦ διδάσκειν καὶ κηρύσσειν ἐν ταῖς πόλεσιν αὐτῶν.</td></tr><tr><td width='100px'><b>MAT 11:2</b></td><td style='text-align: left !important;'>Ὁ δὲ Ἰωάννης ἀκούσας ἐν τῷ δεσμωτηρίῳ τὰ ἔργα τοῦ χριστοῦ <span style='background-color: #FFFF00'>πέμψας</span> <span style='background-color: #FFFF00'>διὰ</span> <span style='background-color: #FFFF00'>τῶν</span> <span style='background-color: #FFFF00'>μαθητῶν</span> <span style='background-color: #FFFF00'>αὐτοῦ</span> </td></tr><tr><td width='100px'><b>MAT 11:2</b></td><td style='text-align: left !important;'>Ὁ δὲ Ἰωάννης <span style='background-color: #FFFF00'>ἀκούσας</span> <span style='background-color: #FFFF00'>ἐν</span> <span style='background-color: #FFFF00'>τῷ</span> <span style='background-color: #FFFF00'>δεσμωτηρίῳ</span> <span style='background-color: #FFFF00'>τὰ</span> <span style='background-color: #FFFF00'>ἔργα</span> <span style='background-color: #FFFF00'>τοῦ</span> <span style='background-color: #FFFF00'>χριστοῦ</span> πέμψας διὰ τῶν μαθητῶν αὐτοῦ </td></tr><tr><td width='100px'><b>MAT 11:4</b></td><td style='text-align: left !important;'>καὶ <span style='background-color: #FFFF00'>ἀποκριθεὶς</span> ὁ Ἰησοῦς εἶπεν αὐτοῖς·Πορευθέντες ἀπαγγείλατε Ἰωάννῃ ἃ ἀκούετε καὶ βλέπετε·</td></tr><tr><td width='100px'><b>MAT 11:4</b></td><td style='text-align: left !important;'>καὶ ἀποκριθεὶς ὁ Ἰησοῦς εἶπεν αὐτοῖς·<span style='background-color: #FFFF00'>Πορευθέντες</span> ἀπαγγείλατε Ἰωάννῃ ἃ ἀκούετε καὶ βλέπετε·</td></tr><tr><td width='100px'><b>MAT 11:16</b></td><td style='text-align: left !important;'>Τίνι δὲ ὁμοιώσω τὴν γενεὰν ταύτην;ὁμοία ἐστὶν παιδίοις καθημένοις ἐν ταῖς ἀγοραῖς ἃ <span style='background-color: #FFFF00'>προσφωνοῦντα</span> <span style='background-color: #FFFF00'>τοῖς</span> <span style='background-color: #FFFF00'>ἑτέροις</span> </td></tr><tr><td width='100px'><b>MAT 11:25</b></td><td style='text-align: left !important;'>Ἐν ἐκείνῳ τῷ καιρῷ <span style='background-color: #FFFF00'>ἀποκριθεὶς</span> ὁ Ἰησοῦς εἶπεν·Ἐξομολογοῦμαί σοι,πάτερ κύριε τοῦ οὐρανοῦ καὶ τῆς γῆς,ὅτι ἔκρυψας ταῦτα ἀπὸ σοφῶν καὶ συνετῶν,καὶ ἀπεκάλυψας αὐτὰ νηπίοις·</td></tr><tr><td width='100px'><b>MAT 12:2</b></td><td style='text-align: left !important;'>οἱ δὲ Φαρισαῖοι <span style='background-color: #FFFF00'>ἰδόντες</span> εἶπαν αὐτῷ·Ἰδοὺ οἱ μαθηταί σου ποιοῦσιν ὃ οὐκἔξεστιν ποιεῖν ἐν σαββάτῳ.</td></tr><tr><td width='100px'><b>MAT 12:9</b></td><td style='text-align: left !important;'>Καὶ <span style='background-color: #FFFF00'>μεταβὰς</span> <span style='background-color: #FFFF00'>ἐκεῖθεν</span> ἦλθεν εἰς τὴν συναγωγὴν αὐτῶν·</td></tr><tr><td width='100px'><b>MAT 12:14</b></td><td style='text-align: left !important;'><span style='background-color: #FFFF00'>ἐξελθόντες</span> δὲ οἱ Φαρισαῖοι συμβούλιον ἔλαβον κατ’ αὐτοῦ ὅπως αὐτὸν ἀπολέσωσιν.</td></tr></table>"
      ],
      "text/plain": [
       "<IPython.core.display.HTML object>"
      ]
     },
     "metadata": {},
     "output_type": "display_data"
    }
   ],
   "source": [
    "from IPython.display import display, HTML\n",
    "\n",
    "html_string = \"<table>\"\n",
    "for ref, id_list in id_list_by_ref:\n",
    "    # get the macula tsv for the roi\n",
    "    macula_tsv_for_roi = macula_tsv_by_ref[ref]\n",
    "\n",
    "    html_string += f\"<tr><td width='100px'><b>{ref}</b></td><td style='text-align: left !important;'>\"\n",
    "    for word in macula_tsv_for_roi:\n",
    "        text = word[\"text\"]\n",
    "        if word[\"xml:id\"] in id_list:\n",
    "            text = \"<span style='background-color: #FFFF00'>\" + text + \"</span>\"\n",
    "        after = word[\"after\"]\n",
    "        html_string += text + after\n",
    "    html_string += \"</td></tr>\"\n",
    "html_string += \"</table>\"\n",
    "\n",
    "display(HTML(html_string))\n"
   ]
  }
 ],
 "metadata": {
  "kernelspec": {
   "display_name": "Python 3",
   "language": "python",
   "name": "python3"
  },
  "language_info": {
   "codemirror_mode": {
    "name": "ipython",
    "version": 3
   },
   "file_extension": ".py",
   "mimetype": "text/x-python",
   "name": "python",
   "nbconvert_exporter": "python",
   "pygments_lexer": "ipython3",
   "version": "3.11.4"
  }
 },
 "nbformat": 4,
 "nbformat_minor": 2
}
